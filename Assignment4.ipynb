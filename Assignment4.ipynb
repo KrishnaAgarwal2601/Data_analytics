{
  "nbformat": 4,
  "nbformat_minor": 0,
  "metadata": {
    "colab": {
      "provenance": []
    },
    "kernelspec": {
      "name": "python3",
      "display_name": "Python 3"
    },
    "language_info": {
      "name": "python"
    }
  },
  "cells": [
    {
      "cell_type": "markdown",
      "source": [
        "### Object-Orientated Programming"
      ],
      "metadata": {
        "id": "kywitMQ9TW43"
      }
    },
    {
      "cell_type": "markdown",
      "source": [
        "1. What is Object-Oriented Programming (OOP)?\n",
        "- In Python, Object-Oriented Programming (OOP) is a programming paradigm that organizes code using classes and objects. It allows you to model real-world entities using attributes (data) and methods (functions). Key concepts include encapsulation, inheritance, polymorphism, and abstraction.\n",
        "\n",
        "2. What is a class in OOP?\n",
        "- A class in OOP is a blueprint for creating objects. It defines the structure and behavior (attributes and methods) that the created objects will have.\n",
        "\n",
        "3. What is an object in OOP?\n",
        "- An object in OOP is an instance of a class. It represents a specific entity that has the properties (attributes) and behaviors (methods) defined by its class.\n",
        "\n",
        "4. What is the difference between abstraction and encapsulation?\n",
        "- Abstraction and encapsulation are both key concepts in object-oriented programming. Abstraction focuses on hiding the complex details and showing only the necessary parts of an object, making the interface simpler for the user. Encapsulation, on the other hand, is about bundling data and methods together and restricting direct access to some of the object's components, which helps protect the integrity of the data. While abstraction deals with design, encapsulation is more about implementation.\n",
        "\n",
        "5. What are dunder methods in Python?\n",
        "- Dunder methods in Python (short for \"double underscore\" methods) are special methods with names that start and end with double underscores, like `__init__`, `__str__`, and `__len__`. They enable custom behavior for built-in operations, such as object creation, printing, or operator overloading. For example, `__init__` initializes an object, and `__str__` defines its string representation.\n",
        "\n",
        "6. Explain the concept of inheritance in OOP?\n",
        "- Inheritance in OOP is a concept where a class (called a child or subclass) inherits properties and behaviors (attributes and methods) from another class (called a parent or superclass). This allows code reuse and makes it easier to build and maintain programs. The child class can also have its own additional features or override the inherited ones to modify behavior.\n",
        "\n",
        "7. What is polymorphism in OOP?\n",
        "- Polymorphism in OOP means the ability of different objects to respond to the same method or function in different ways. It allows methods to be used interchangeably across different classes, making code more flexible and extensible. For example, different classes can have a method with the same name, but each class implements it differently.\n",
        "\n",
        "8. How is encapsulation achieved in Python?\n",
        "- Encapsulation in Python is achieved by bundling data (attributes) and methods within a class and controlling access using access modifiers.\n",
        "\n",
        "9. What is a constructor in Python?\n",
        "- A constructor in Python is a special method called __init__() that automatically runs when a new object of a class is created. It is used to initialize the object’s attributes with values. For example:\n",
        "\n",
        "class Person:  \n",
        "    def __init__(self, name, age):  \n",
        "        self.name = name  \n",
        "        self.age = age  \n",
        "Here, __init__ sets the initial values of name and age when a Person object is created.\n",
        "\n",
        "10. What are class and static methods in Python?\n",
        "- In Python:\n",
        "\n",
        "1) **Class methods** (using @classmethod) take cls as the first argument and can access or modify class state. They are called on the class, not instances.\n",
        "\n",
        "2) **Static methods** (using @staticmethod) take no self or cls and cannot access class or instance data. They're utility functions grouped with the class.\n",
        "\n",
        "11. What is method overloading in Python?\n",
        "- Method overloading in Python refers to defining multiple methods with the same name but different parameters. It can achieve similar behavior using default arguments or variable-length arguments (`*args`, `**args`) in a single method.\n",
        "\n",
        "12. What is method overriding in OOP?\n",
        "- Method overriding in Object-Oriented Programming (OOP) occurs when a subclass provides a specific implementation of a method that is already defined in its parent class. The overridden method in the subclass has the same name, return type, and parameters as the method in the parent class, allowing the subclass to customize or replace the behavior.\n",
        "\n",
        "13. What is a property decorator in Python?\n",
        "- The property decorator in Python is used to define a getter method that allows a class method to be accessed like an attribute. It is commonly used to encapsulate data and add controlled access to class attributes.\n",
        "\n",
        "14. Why is polymorphism important in OOP?\n",
        "- Polymorphism is important in OOP because it allows objects of different classes to be treated uniformly through a common interface, enabling flexible, reusable, and extensible code. It supports method overriding and dynamic behavior, making programs easier to maintain and extend.\n",
        "\n",
        "15. What is an abstract class in Python?\n",
        "- An abstract class in Python is a class that cannot be instantiated and usually contains one or more abstract methods that must be implemented by its subclasses. It's defined using the `ABC` module to provide a common interface for related classes.\n",
        "\n",
        "16. What are the advantages of OOP?\n",
        "- **Advantages of OOP** (Object-Oriented Programming) include:\n",
        "\n",
        "* **Modularity**: Code is organized into classes and objects.\n",
        "* **Reusability**: Code can be reused through inheritance.\n",
        "* **Maintainability**: Easier to update and manage.\n",
        "* **Encapsulation**: Protects data by restricting direct access.\n",
        "* **Polymorphism**: Enables flexible and interchangeable use of objects.\n",
        "\n",
        "17. What is the difference between a class variable and an instance variable?\n",
        "- A class variable is shared by all instances of a class, while an instance variable is unique to each object.\n",
        "\n",
        "* **Class variable**: Defined inside the class but outside any method.\n",
        "* **Instance variable**: Defined inside a method, typically within `__init__`, using `self`.\n",
        "\n",
        "18. What is multiple inheritance in Python?\n",
        "- Multiple inheritance in Python allows a class to inherit from more than one parent class, combining their features and behaviors.\n",
        "\n",
        "19. Explain the purpose of ‘’__str__’ and ‘__repr__’ ‘ methods in Python?\n",
        "- The `__str__` and `__repr__` methods in Python are used to define string representations of objects:\n",
        "\n",
        "* `__str__`: Returns a user-friendly string, used by `print()` and `str()`.\n",
        "* `__repr__`: Returns an unambiguous string for developers, used by `repr()` and in the Python shell.\n",
        "\n",
        "### Example:\n",
        "\n",
        "```python\n",
        "class Person:\n",
        "    def __str__(self):\n",
        "        return \"Person object\"\n",
        "\n",
        "    def __repr__(self):\n",
        "        return \"Person(name='John')\"\n",
        "```\n",
        "\n",
        "20. What is the significance of the ‘super()’ function in Python?\n",
        "- The super() function in Python is used to call methods from a parent (super) class. It is commonly used in inheritance to access and extend the behavior of the parent class without explicitly naming it.\n",
        "\n",
        "21. What is the significance of the __del__ method in Python?\n",
        "- The __del__ method in Python is a destructor that is called when an object is about to be destroyed (i.e., garbage collected). It's used to perform cleanup actions, like closing files or releasing resources.\n",
        "\n",
        "22. What is the difference between @staticmethod and @classmethod in Python?\n",
        "- The difference between @staticmethod and @classmethod in Python is:\n",
        "\n",
        "1) **@staticmethod:** Does not take self or cls as a parameter. It behaves like a regular function but belongs to the class's namespace.\n",
        "\n",
        "2) **@classmethod:** Takes cls as the first parameter and can access or modify class-level data.\n",
        "\n",
        "23. How does polymorphism work in Python with inheritance?\n",
        "- In Python, polymorphism with inheritance allows different subclasses to define their own versions of a method defined in a common base class, and enables using those objects interchangeably.\n",
        "\n",
        "24.  What is method chaining in Python OOP?\n",
        "- Method chaining in Python OOP is a technique where multiple methods are called on the same object in a single line, one after the other. This works by having each method return self, allowing the next method to be called on the same object.\n",
        "\n",
        "25. What is the purpose of the __call__ method in Python?\n",
        "- The __call__ method in Python allows an instance of a class to be called like a function. It lets you define custom behavior when the object is \"called.\"\n",
        "\n",
        "\n",
        "\n",
        "\n",
        "\n",
        "\n",
        "\n",
        "\n"
      ],
      "metadata": {
        "id": "M33Uvmv_Tlh_"
      }
    },
    {
      "cell_type": "code",
      "execution_count": null,
      "metadata": {
        "id": "PyyTHuKhS_gD",
        "colab": {
          "base_uri": "https://localhost:8080/"
        },
        "outputId": "38acf3ab-c60f-4178-efd6-e6f9ad1b37e4"
      },
      "outputs": [
        {
          "output_type": "stream",
          "name": "stdout",
          "text": [
            "Bark!\n"
          ]
        }
      ],
      "source": [
        "# 1. Create a parent class Animal with a method speak() that prints a generic message. Create a child class Dog that overrides the speak() method to print \"Bark!\".\n",
        "class Animal:\n",
        "    def speak(self):\n",
        "        print(\"Animal makes a sound\")\n",
        "\n",
        "class Dog(Animal):\n",
        "    def speak(self):\n",
        "        print(\"Bark!\")\n",
        "\n",
        "dog = Dog()\n",
        "dog.speak()\n"
      ]
    },
    {
      "cell_type": "code",
      "source": [
        "# 2. Write a program to create an abstract class Shape with a method area(). Derive classes Circle and Rectangle from it and implement the area() method in both.\n",
        "from abc import ABC, abstractmethod\n",
        "import math\n",
        "\n",
        "class Shape(ABC):\n",
        "    @abstractmethod\n",
        "    def area(self):\n",
        "        pass\n",
        "\n",
        "class Circle(Shape):\n",
        "    def __init__(self, radius):\n",
        "        self.radius = radius\n",
        "\n",
        "    def area(self):\n",
        "        return math.pi * self.radius ** 2\n",
        "\n",
        "class Rectangle(Shape):\n",
        "    def __init__(self, length, width):\n",
        "        self.length = length\n",
        "        self.width = width\n",
        "\n",
        "    def area(self):\n",
        "        return self.length * self.width\n",
        "\n",
        "circle = Circle(10)\n",
        "rectangle = Rectangle(8, 11)\n",
        "\n",
        "print(f\"Circle Area: {circle.area():.2f}\")\n",
        "print(f\"Rectangle Area: {rectangle.area():.2f}\")\n",
        "\n"
      ],
      "metadata": {
        "colab": {
          "base_uri": "https://localhost:8080/"
        },
        "id": "4Q9TWQa1RsA4",
        "outputId": "c7e7730c-d9c8-4496-8bba-2c33d354fc64"
      },
      "execution_count": null,
      "outputs": [
        {
          "output_type": "stream",
          "name": "stdout",
          "text": [
            "Circle Area: 314.16\n",
            "Rectangle Area: 88.00\n"
          ]
        }
      ]
    },
    {
      "cell_type": "code",
      "source": [
        "# 3. Implement a multi-level inheritance scenario where a class Vehicle has an attribute type. Derive a class Car and further derive a class ElectricCar that adds a battery attribute.\n",
        "class Vehicle:\n",
        "    def __init__(self, vehicle_type):\n",
        "        self.vehicle_type = vehicle_type\n",
        "\n",
        "    def display_type(self):\n",
        "        print(f\"Vehicle Type: {self.vehicle_type}\")\n",
        "\n",
        "class Car(Vehicle):\n",
        "    def __init__(self, vehicle_type, make):\n",
        "        super().__init__(vehicle_type)\n",
        "        self.make = make\n",
        "\n",
        "    def display_info(self):\n",
        "        print(f\"Car Make: {self.make}\")\n",
        "\n",
        "class ElectricCar(Car):\n",
        "    def __init__(self, vehicle_type, make, battery_capacity):\n",
        "        super().__init__(vehicle_type, make)\n",
        "        self.battery_capacity = battery_capacity\n",
        "\n",
        "    def display_battery(self):\n",
        "        print(f\"Battery Capacity: {self.battery_capacity} kWh\")\n",
        "\n",
        "ev = ElectricCar(\"Electric\", \"Tesla\", 95)\n",
        "ev.display_type()\n",
        "ev.display_info()\n",
        "ev.display_battery()\n"
      ],
      "metadata": {
        "colab": {
          "base_uri": "https://localhost:8080/"
        },
        "id": "fASspl6yTC8A",
        "outputId": "ea35f6f7-afe7-4238-c9ac-7706e4a7cc50"
      },
      "execution_count": null,
      "outputs": [
        {
          "output_type": "stream",
          "name": "stdout",
          "text": [
            "Vehicle Type: Electric\n",
            "Car Make: Tesla\n",
            "Battery Capacity: 95 kWh\n"
          ]
        }
      ]
    },
    {
      "cell_type": "code",
      "source": [
        "# 4. Demonstrate polymorphism by creating a base class Bird with a method fly(). Create two derived classes Sparrow and Penguin that override the fly() method.\n",
        "class Bird:\n",
        "    def fly(self):\n",
        "        return \"Bird is flying\"\n",
        "\n",
        "class Sparrow(Bird):\n",
        "    def fly(self):\n",
        "        return \"Sparrow is flying\"\n",
        "\n",
        "class Penguin(Bird):\n",
        "    def fly(self):\n",
        "        return \"Penguins can't fly\"\n",
        "\n",
        "def demonstrate_flying(bird: Bird):\n",
        "    print(bird.fly())\n",
        "\n",
        "sparrow = Sparrow()\n",
        "penguin = Penguin()\n",
        "\n",
        "demonstrate_flying(sparrow)\n",
        "demonstrate_flying(penguin)\n"
      ],
      "metadata": {
        "colab": {
          "base_uri": "https://localhost:8080/"
        },
        "id": "t6GvmSXsUgBv",
        "outputId": "e23ff2b2-c6c6-4c34-917f-18d1d8c327b1"
      },
      "execution_count": null,
      "outputs": [
        {
          "output_type": "stream",
          "name": "stdout",
          "text": [
            "Sparrow is flying\n",
            "Penguins can't fly\n"
          ]
        }
      ]
    },
    {
      "cell_type": "code",
      "source": [
        "# 5. Write a program to demonstrate encapsulation by creating a class BankAccount with private attributes balance and methods to deposit, withdraw, and check balance.\n",
        "class BankAccount:\n",
        "    def __init__(self, account_number, initial_balance=0):\n",
        "        self.account_number = account_number\n",
        "        self.__balance = initial_balance\n",
        "\n",
        "    def deposit(self, amount):\n",
        "        \"\"\"Deposit money into the account.\"\"\"\n",
        "        if amount > 0:\n",
        "            self.__balance += amount\n",
        "            print(f\"Deposited: {amount}\")\n",
        "        else:\n",
        "            print(\"Deposit amount must be positive.\")\n",
        "\n",
        "    def withdraw(self, amount):\n",
        "        \"\"\"Withdraw money from the account.\"\"\"\n",
        "        if 0 < amount <= self.__balance:\n",
        "            self.__balance -= amount\n",
        "            print(f\"Withdrew: {amount}\")\n",
        "        else:\n",
        "            print(\"Invalid amount or insufficient balance.\")\n",
        "\n",
        "    def get_balance(self):\n",
        "        \"\"\"Return the current balance.\"\"\"\n",
        "        return self.__balance\n",
        "\n",
        "account = BankAccount(\"1234567890\", 1000)\n",
        "account.deposit(500)\n",
        "account.withdraw(200)\n",
        "print(f\"Current Balance: {account.get_balance()}\")"
      ],
      "metadata": {
        "colab": {
          "base_uri": "https://localhost:8080/"
        },
        "id": "73CifadVXbGN",
        "outputId": "611ea5ae-b4d5-4a73-b515-24f2a3c035c3"
      },
      "execution_count": null,
      "outputs": [
        {
          "output_type": "stream",
          "name": "stdout",
          "text": [
            "Deposited: 500\n",
            "Withdrew: 200\n",
            "Current Balance: 1300\n"
          ]
        }
      ]
    },
    {
      "cell_type": "code",
      "source": [
        "# 6. Demonstrate runtime polymorphism using a method play() in a base class Instrument. Derive classes Guitar and Piano that implement their own version of play().\n",
        "class Instrument:\n",
        "    def play(self):\n",
        "        print(\"Playing an instrument\")\n",
        "\n",
        "class Guitar(Instrument):\n",
        "    def play(self):\n",
        "        print(\"Strumming the guitar\")\n",
        "\n",
        "class Piano(Instrument):\n",
        "    def play(self):\n",
        "        print(\"Playing the piano\")\n",
        "\n",
        "def demonstrate_play(instrument: Instrument):\n",
        "    instrument.play()\n",
        "\n",
        "guitar = Guitar()\n",
        "piano = Piano()\n",
        "\n",
        "demonstrate_play(guitar)\n",
        "demonstrate_play(piano)\n"
      ],
      "metadata": {
        "colab": {
          "base_uri": "https://localhost:8080/"
        },
        "id": "W3aD4-ZBYZ0C",
        "outputId": "05df04ff-d742-4a30-fbd1-0059300875d5"
      },
      "execution_count": null,
      "outputs": [
        {
          "output_type": "stream",
          "name": "stdout",
          "text": [
            "Strumming the guitar\n",
            "Playing the piano\n"
          ]
        }
      ]
    },
    {
      "cell_type": "code",
      "source": [
        "# 7. Create a class MathOperations with a class method add_numbers() to add two numbers and a static method subtract_numbers() to subtract two numbers.\n",
        "class MathOperations:\n",
        "    @classmethod\n",
        "    def add_numbers(cls, num1, num2):\n",
        "        return num1 + num2\n",
        "\n",
        "    @staticmethod\n",
        "    def subtract_numbers(num1, num2):\n",
        "        return num1 - num2\n",
        "\n",
        "print(\"Addition:\", MathOperations.add_numbers(11, 6))\n",
        "print(\"Subtraction:\", MathOperations.subtract_numbers(11, 6))\n"
      ],
      "metadata": {
        "colab": {
          "base_uri": "https://localhost:8080/"
        },
        "id": "05_uhBHCZpq6",
        "outputId": "dec0ade4-92a9-4d1f-91a3-fab82c0ebb9b"
      },
      "execution_count": null,
      "outputs": [
        {
          "output_type": "stream",
          "name": "stdout",
          "text": [
            "Addition: 17\n",
            "Subtraction: 5\n"
          ]
        }
      ]
    },
    {
      "cell_type": "code",
      "source": [
        "# 8. Implement a class Person with a class method to count the total number of persons created.\n",
        "class Person:\n",
        "    _instance_count = 0\n",
        "\n",
        "    def __init__(self, name, age):\n",
        "        self.name = name\n",
        "        self.age = age\n",
        "        Person._instance_count += 1\n",
        "\n",
        "    @classmethod\n",
        "    def get_instance_count(cls):\n",
        "        return cls._instance_count\n",
        "\n",
        "person1 = Person(\"Alice\", 30)\n",
        "person2 = Person(\"Bob\", 25)\n",
        "person3 = Person(\"Charlie\", 35)\n",
        "\n",
        "print(f\"Total number of Person instances created: {Person.get_instance_count()}\")\n"
      ],
      "metadata": {
        "colab": {
          "base_uri": "https://localhost:8080/"
        },
        "id": "gW-KEuvNcKOz",
        "outputId": "96e6a752-7b7d-433a-d81c-9ce701e2b6a4"
      },
      "execution_count": null,
      "outputs": [
        {
          "output_type": "stream",
          "name": "stdout",
          "text": [
            "Total number of Person instances created: 3\n"
          ]
        }
      ]
    },
    {
      "cell_type": "code",
      "source": [
        "# 9. Write a class Fraction with attributes numerator and denominator. Override the str method to display the fraction as \"numerator/denominator\".\n",
        "class Fraction:\n",
        "    def __init__(self, numerator, denominator):\n",
        "        self.numerator = numerator\n",
        "        self.denominator = denominator\n",
        "\n",
        "    def __str__(self):\n",
        "        return f\"{self.numerator}/{self.denominator}\"\n",
        "\n",
        "fraction = Fraction(15, 11)\n",
        "print(fraction)\n"
      ],
      "metadata": {
        "colab": {
          "base_uri": "https://localhost:8080/"
        },
        "id": "CSXk8g_Ech_B",
        "outputId": "b6cc6d71-dcda-4e20-d072-46cb3507dd89"
      },
      "execution_count": null,
      "outputs": [
        {
          "output_type": "stream",
          "name": "stdout",
          "text": [
            "15/11\n"
          ]
        }
      ]
    },
    {
      "cell_type": "code",
      "source": [
        "# 10. Demonstrate operator overloading by creating a class Vector and overriding the add method to add two vectors.\n",
        "class Vector:\n",
        "    def __init__(self, x, y):\n",
        "        self.x = x\n",
        "        self.y = y\n",
        "\n",
        "    def __add__(self, other):\n",
        "        if isinstance(other, Vector):\n",
        "            return Vector(self.x + other.x, self.y + other.y)\n",
        "        else:\n",
        "            raise TypeError(\"Operands must be instances of Vector\")\n",
        "\n",
        "    def __str__(self):\n",
        "        return f\"Vector({self.x}, {self.y})\"\n",
        "\n",
        "v1 = Vector(2, 3)\n",
        "v2 = Vector(4, 5)\n",
        "result = v1 + v2\n",
        "print(result)\n"
      ],
      "metadata": {
        "colab": {
          "base_uri": "https://localhost:8080/"
        },
        "id": "kj-SJiwCc1li",
        "outputId": "cf882a48-0dd3-440e-c687-6d44d17d0fe6"
      },
      "execution_count": null,
      "outputs": [
        {
          "output_type": "stream",
          "name": "stdout",
          "text": [
            "Vector(6, 8)\n"
          ]
        }
      ]
    },
    {
      "cell_type": "code",
      "source": [
        "# 11. Create a class Person with attributes name and age. Add a method greet() that prints \"Hello, my name is {name} and I am {age} years old.\"\n",
        "class Person:\n",
        "    def __init__(self, name, age):\n",
        "        self.name = name\n",
        "        self.age = age\n",
        "\n",
        "    def greet(self):\n",
        "        print(f\"Hello, my name is {self.name} and I am {self.age} years old.\")\n",
        "\n",
        "person1 = Person(\"Krishna\", 23)\n",
        "person1.greet()"
      ],
      "metadata": {
        "colab": {
          "base_uri": "https://localhost:8080/"
        },
        "id": "6p9uM6tGdn5p",
        "outputId": "b68e0193-ca60-4093-e297-021358969ee4"
      },
      "execution_count": null,
      "outputs": [
        {
          "output_type": "stream",
          "name": "stdout",
          "text": [
            "Hello, my name is Krishna and I am 23 years old.\n"
          ]
        }
      ]
    },
    {
      "cell_type": "code",
      "source": [
        "# 12. Implement a class Student with attributes name and grades. Create a method average_grade() to compute the average of the grades.\n",
        "class Student:\n",
        "    def __init__(self, name, grades):\n",
        "        self.name = name\n",
        "        self.grades = grades\n",
        "\n",
        "    def average_grade(self):\n",
        "        if not self.grades:\n",
        "            return 0\n",
        "        return sum(self.grades) / len(self.grades)\n",
        "\n",
        "student1 = Student(\"Krishna\", [85, 90, 98])\n",
        "print(f\"{student1.name}'s average grade is {student1.average_grade():.2f}\")"
      ],
      "metadata": {
        "id": "JmTJ9H44edah",
        "colab": {
          "base_uri": "https://localhost:8080/"
        },
        "outputId": "ee85b54c-20cc-4ca8-a14b-4b648f97cbf9"
      },
      "execution_count": 2,
      "outputs": [
        {
          "output_type": "stream",
          "name": "stdout",
          "text": [
            "Krishna's average grade is 91.00\n"
          ]
        }
      ]
    },
    {
      "cell_type": "code",
      "source": [
        "# 13. Create a class Rectangle with methods set_dimensions() to set the dimensions and area() to calculate the area.\n",
        "class Rectangle:\n",
        "    def __init__(self):\n",
        "        self.length = 0\n",
        "        self.width = 0\n",
        "\n",
        "    def set_dimensions(self, length, width):\n",
        "        self.length = length\n",
        "        self.width = width\n",
        "\n",
        "    def area(self):\n",
        "        return self.length * self.width\n",
        "\n",
        "rect = Rectangle()\n",
        "rect.set_dimensions(7, 11)\n",
        "print(f\"The area of the rectangle is {rect.area()}\")"
      ],
      "metadata": {
        "colab": {
          "base_uri": "https://localhost:8080/"
        },
        "id": "EAI48hW2wOC4",
        "outputId": "6085b5dc-5c2f-4a72-9672-09a0d0c3fea7"
      },
      "execution_count": 3,
      "outputs": [
        {
          "output_type": "stream",
          "name": "stdout",
          "text": [
            "The area of the rectangle is 77\n"
          ]
        }
      ]
    },
    {
      "cell_type": "code",
      "source": [
        "# 14. Create a class Employee with a method calculate_salary() that computes the salary based on hours worked and hourly rate. Create a derived class Manager that adds a bonus to the salary.\n",
        "class Employee:\n",
        "    def __init__(self, hours_worked, hourly_rate):\n",
        "        self.hours_worked = hours_worked\n",
        "        self.hourly_rate = hourly_rate\n",
        "\n",
        "    def calculate_salary(self):\n",
        "        return self.hours_worked * self.hourly_rate\n",
        "\n",
        "\n",
        "class Manager(Employee):\n",
        "    def __init__(self, hours_worked, hourly_rate, bonus):\n",
        "        super().__init__(hours_worked, hourly_rate)\n",
        "        self.bonus = bonus\n",
        "\n",
        "    def calculate_salary(self):\n",
        "        base_salary = super().calculate_salary()\n",
        "        return base_salary + self.bonus\n",
        "\n",
        "emp = Employee(40, 20)\n",
        "print(f\"Employee salary: {emp.calculate_salary()}\")\n",
        "\n",
        "mgr = Manager(40, 30, 500)\n",
        "print(f\"Manager salary: {mgr.calculate_salary()}\")"
      ],
      "metadata": {
        "colab": {
          "base_uri": "https://localhost:8080/"
        },
        "id": "Q6r7Q-aRwgnM",
        "outputId": "82a805f6-8b5b-4c88-8238-8877ac9ada4d"
      },
      "execution_count": 4,
      "outputs": [
        {
          "output_type": "stream",
          "name": "stdout",
          "text": [
            "Employee salary: 800\n",
            "Manager salary: 1700\n"
          ]
        }
      ]
    },
    {
      "cell_type": "code",
      "source": [
        "# 15. Create a class Product with attributes name, price, and quantity. Implement a method total_price() that calculates the total price of the product.\n",
        "class Product:\n",
        "    def __init__(self, name, price, quantity):\n",
        "        self.name = name\n",
        "        self.price = price\n",
        "        self.quantity = quantity\n",
        "\n",
        "    def total_price(self):\n",
        "        return self.price * self.quantity\n",
        "\n",
        "product1 = Product(\"Laptop\", 40000, 2)\n",
        "print(f\"Total price for {product1.name}s: {product1.total_price()}\")\n"
      ],
      "metadata": {
        "colab": {
          "base_uri": "https://localhost:8080/"
        },
        "id": "N7m9gxpLxLfp",
        "outputId": "c7c2d720-4311-4d20-c756-3b8204f384e9"
      },
      "execution_count": 5,
      "outputs": [
        {
          "output_type": "stream",
          "name": "stdout",
          "text": [
            "Total price for Laptops: 80000\n"
          ]
        }
      ]
    },
    {
      "cell_type": "code",
      "source": [
        "# 16.Create a class Animal with an abstract method sound(). Create two derived classes Cow and Sheep that implement the sound() method.\n",
        "from abc import ABC, abstractmethod\n",
        "\n",
        "class Animal(ABC):\n",
        "    @abstractmethod\n",
        "    def sound(self):\n",
        "        pass\n",
        "\n",
        "\n",
        "class Cow(Animal):\n",
        "    def sound(self):\n",
        "        return \"Moo\"\n",
        "\n",
        "\n",
        "class Sheep(Animal):\n",
        "    def sound(self):\n",
        "        return \"Baa\"\n",
        "\n",
        "cow = Cow()\n",
        "sheep = Sheep()\n",
        "\n",
        "print(f\"Cow says: {cow.sound()}\")\n",
        "print(f\"Sheep says: {sheep.sound()}\")"
      ],
      "metadata": {
        "colab": {
          "base_uri": "https://localhost:8080/"
        },
        "id": "BeYqeNvMyV4t",
        "outputId": "998fd690-8c92-4a10-a9e8-665c391f7c69"
      },
      "execution_count": 6,
      "outputs": [
        {
          "output_type": "stream",
          "name": "stdout",
          "text": [
            "Cow says: Moo\n",
            "Sheep says: Baa\n"
          ]
        }
      ]
    },
    {
      "cell_type": "code",
      "source": [
        "# 17. Create a class Book with attributes title, author, and year_published. Add a method get_book_info() that returns a formatted string with the book's details.\n",
        "class Book:\n",
        "    def __init__(self, title, author, year_published):\n",
        "        self.title = title\n",
        "        self.author = author\n",
        "        self.year_published = year_published\n",
        "\n",
        "    def get_book_info(self):\n",
        "        return f\"'{self.title}' by {self.author} (Published in {self.year_published})\"\n",
        "\n",
        "book1 = Book(\"To Kill a Mockingbird\", \"Harper Lee\", 1960)\n",
        "print(book1.get_book_info())"
      ],
      "metadata": {
        "colab": {
          "base_uri": "https://localhost:8080/"
        },
        "id": "6IwyCE6F3g7T",
        "outputId": "95703fcc-befd-4570-f229-9086b5c52ff3"
      },
      "execution_count": 7,
      "outputs": [
        {
          "output_type": "stream",
          "name": "stdout",
          "text": [
            "'To Kill a Mockingbird' by Harper Lee (Published in 1960)\n"
          ]
        }
      ]
    },
    {
      "cell_type": "code",
      "source": [
        "# 18. Create a class House with attributes address and price. Create a derived class Mansion that adds an attribute number_of_rooms.\n",
        "class House:\n",
        "    def __init__(self, address, price):\n",
        "        self.address = address\n",
        "        self.price = price\n",
        "\n",
        "\n",
        "class Mansion(House):\n",
        "    def __init__(self, address, price, number_of_rooms):\n",
        "        super().__init__(address, price)\n",
        "        self.number_of_rooms = number_of_rooms\n",
        "\n",
        "house1 = House(\"123 Abc Street\", 250000)\n",
        "print(f\"House at {house1.address}, priced at {house1.price}\")\n",
        "\n",
        "mansion1 = Mansion(\"456 Def Street\", 1200000, 12)\n",
        "print(f\"Mansion at {mansion1.address}, priced at {mansion1.price}, with {mansion1.number_of_rooms} rooms\")"
      ],
      "metadata": {
        "colab": {
          "base_uri": "https://localhost:8080/"
        },
        "id": "JoA7JPhw39zk",
        "outputId": "0b839094-7da8-4331-ecdc-0288f402ab6c"
      },
      "execution_count": 9,
      "outputs": [
        {
          "output_type": "stream",
          "name": "stdout",
          "text": [
            "House at 123 Abc Street, priced at 250000\n",
            "Mansion at 456 Def Street, priced at 1200000, with 12 rooms\n"
          ]
        }
      ]
    }
  ]
}