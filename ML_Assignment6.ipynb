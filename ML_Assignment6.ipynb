{
  "nbformat": 4,
  "nbformat_minor": 0,
  "metadata": {
    "colab": {
      "provenance": []
    },
    "kernelspec": {
      "name": "python3",
      "display_name": "Python 3"
    },
    "language_info": {
      "name": "python"
    }
  },
  "cells": [
    {
      "cell_type": "markdown",
      "source": [
        "### Boosting Techniques"
      ],
      "metadata": {
        "id": "bx-WzizTDniH"
      }
    },
    {
      "cell_type": "markdown",
      "source": [
        "1. What is Boosting in Machine Learning? Explain how it improves weak\n",
        "learners.\n",
        "- Boosting is an ensemble technique that builds many weak learners sequentially, where each new model focuses on correcting the errors of the previous ones, and their weighted outputs are combined into a single strong predictor; this iterative reweighting/fitting process typically reduces bias and improves generalization compared with a single learner. Classic implementations include AdaBoost, which upweights misclassified samples at each round, and Gradient Boosting, which fits new learners to the residuals, both turning simple base models (often shallow trees) into a powerful aggregated model.\n",
        "\n",
        "2. What is the difference between AdaBoost and Gradient Boosting in terms\n",
        "of how models are trained?\n",
        "- AdaBoost trains learners sequentially by reweighting training samples: after each round, it increases weights on misclassified points and assigns a model weight based on its error, then combines learners in a weighted vote/sum. Gradient Boosting instead fits each new learner to the current residuals/negative gradients of a chosen loss function, effectively doing stagewise gradient descent on the loss, and combines learners by additive updates with a learning rate. In short, AdaBoost adapts sample weights; Gradient Boosting follows gradients of a loss via residual fitting.\n",
        "\n",
        "3. How does regularization help in XGBoost?\n",
        "- Boosting is an ensemble method that turns many weak learners (typically shallow trees) into a strong model by training them sequentially, each new learner focusing on the current errors and then adding its weighted contribution to the ensemble to reduce overall loss. In XGBoost, regularization improves these weak learners’ generalization by penalizing model complexity directly in the objective (L1/“alpha” sparsifies leaf weights; L2/“lambda” shrinks them), using shrinkage to make each tree’s step conservative, and applying tree-wise controls like min_child_weight, max_depth, subsampling, and gamma so the ensemble fits signal while resisting noise-driven splits.\n",
        "\n",
        "4. Why is CatBoost considered efficient for handling categorical data?\n",
        "- CatBoost is efficient for categorical data because it natively encodes categories during training using ordered (leakage-avoiding) target statistics and specialized one-hot for low-cardinality features, eliminating heavy pre-processing and reducing overfitting from naive target encoding. Its ordered boosting scheme learns encodings using only prior samples, which curbs target leakage and handles high-cardinality features (like ZIP codes or IDs) without exploding dimensionality, leading to strong accuracy and fast training on real-world tabular data with many categories.\n",
        "\n",
        "5. What are some real-world applications where boosting techniques are\n",
        "preferred over bagging methods?\n",
        "- Boosting is often preferred in applications requiring high accuracy with complex decision boundaries and subtle interactions, such as click-through rate prediction and ad ranking, credit risk scoring, and fraud detection where small signals must be amplified in noisy data. It is also widely used in structured/tabular competitions and production systems (e.g., XGBoost/LightGBM) for tasks like churn prediction and demand forecasting because sequential learners reduce bias and capture nonlinearities more effectively than bagging alone. In domains like medical diagnosis and anomaly detection, boosting’s focus on hard-to-classify cases improves sensitivity at practical thresholds, though it requires careful regularization to avoid overfitting on noise."
      ],
      "metadata": {
        "id": "TwkbnufrDp8v"
      }
    },
    {
      "cell_type": "code",
      "execution_count": 1,
      "metadata": {
        "id": "s7-No2DVDZyo",
        "colab": {
          "base_uri": "https://localhost:8080/"
        },
        "outputId": "8a238229-7c07-4c1a-9a0f-8b3c2e71bf54"
      },
      "outputs": [
        {
          "output_type": "stream",
          "name": "stdout",
          "text": [
            "Test Accuracy: 0.9561\n"
          ]
        }
      ],
      "source": [
        "\"\"\" 6. Write a Python program to:\n",
        "● Train an AdaBoost Classifier on the Breast Cancer dataset\n",
        "● Print the model accuracy \"\"\"\n",
        "\n",
        "from sklearn.datasets import load_breast_cancer\n",
        "from sklearn.model_selection import train_test_split\n",
        "from sklearn.ensemble import AdaBoostClassifier\n",
        "from sklearn.metrics import accuracy_score\n",
        "\n",
        "data = load_breast_cancer()\n",
        "X, y = data.data, data.target\n",
        "\n",
        "X_train, X_test, y_train, y_test = train_test_split(\n",
        "    X, y, test_size=0.2, random_state=42, stratify=y\n",
        ")\n",
        "\n",
        "clf = AdaBoostClassifier(random_state=42)\n",
        "clf.fit(X_train, y_train)\n",
        "\n",
        "y_pred = clf.predict(X_test)\n",
        "acc = accuracy_score(y_test, y_pred)\n",
        "\n",
        "print(f\"Test Accuracy: {acc:.4f}\")"
      ]
    },
    {
      "cell_type": "code",
      "source": [
        "\"\"\" 7. Write a Python program to:\n",
        "● Train a Gradient Boosting Regressor on the California Housing dataset\n",
        "● Evaluate performance using R-squared score \"\"\"\n",
        "\n",
        "from sklearn.datasets import fetch_california_housing\n",
        "from sklearn.model_selection import train_test_split\n",
        "from sklearn.ensemble import GradientBoostingRegressor\n",
        "from sklearn.metrics import r2_score\n",
        "\n",
        "data = fetch_california_housing(as_frame=False)\n",
        "X, y = data.data, data.target\n",
        "\n",
        "X_train, X_test, y_train, y_test = train_test_split(\n",
        "    X, y, test_size=0.2, random_state=42\n",
        ")\n",
        "\n",
        "gbr = GradientBoostingRegressor(random_state=42)\n",
        "gbr.fit(X_train, y_train)\n",
        "\n",
        "y_pred = gbr.predict(X_test)\n",
        "r2 = r2_score(y_test, y_pred)\n",
        "\n",
        "print(f\"R-squared (test): {r2:.4f}\")"
      ],
      "metadata": {
        "colab": {
          "base_uri": "https://localhost:8080/"
        },
        "id": "ihOTyLWmhrPj",
        "outputId": "6ce29c4f-cc41-41be-e4b4-c003b2776d80"
      },
      "execution_count": 2,
      "outputs": [
        {
          "output_type": "stream",
          "name": "stdout",
          "text": [
            "R-squared (test): 0.7756\n"
          ]
        }
      ]
    },
    {
      "cell_type": "code",
      "source": [
        "\"\"\" 8. Write a Python program to:\n",
        "● Train an XGBoost Classifier on the Breast Cancer dataset\n",
        "● Tune the learning rate using GridSearchCV\n",
        "● Print the best parameters and accuracy \"\"\"\n",
        "\n",
        "from sklearn.datasets import load_breast_cancer\n",
        "from sklearn.model_selection import train_test_split, GridSearchCV\n",
        "from sklearn.metrics import accuracy_score\n",
        "import xgboost as xgb\n",
        "\n",
        "data = load_breast_cancer()\n",
        "X, y = data.data, data.target\n",
        "\n",
        "X_train, X_test, y_train, y_test = train_test_split(\n",
        "    X, y, test_size=0.2, random_state=42, stratify=y\n",
        ")\n",
        "\n",
        "xgb_clf = xgb.XGBClassifier(\n",
        "    objective=\"binary:logistic\",\n",
        "    eval_metric=\"logloss\",\n",
        "    n_estimators=300,\n",
        "    tree_method=\"hist\",\n",
        "    random_state=42,\n",
        "    n_jobs=-1\n",
        ")\n",
        "\n",
        "param_grid = {\n",
        "    \"learning_rate\": [0.01, 0.03, 0.05, 0.1, 0.2]\n",
        "}\n",
        "\n",
        "grid = GridSearchCV(\n",
        "    estimator=xgb_clf,\n",
        "    param_grid=param_grid,\n",
        "    scoring=\"accuracy\",\n",
        "    cv=5,\n",
        "    n_jobs=-1,\n",
        "    refit=True\n",
        ")\n",
        "\n",
        "grid.fit(X_train, y_train)\n",
        "best_model = grid.best_estimator_\n",
        "y_pred = best_model.predict(X_test)\n",
        "acc = accuracy_score(y_test, y_pred)\n",
        "\n",
        "print(\"Best parameters:\", grid.best_params_)\n",
        "print(f\"CV Best Score (mean accuracy): {grid.best_score_:.4f}\")\n",
        "print(f\"Test Accuracy: {acc:.4f}\")"
      ],
      "metadata": {
        "colab": {
          "base_uri": "https://localhost:8080/"
        },
        "id": "vUh_rdkbh7D3",
        "outputId": "e64f60e0-79e8-447c-f9fe-74cc3845a341"
      },
      "execution_count": 8,
      "outputs": [
        {
          "output_type": "stream",
          "name": "stdout",
          "text": [
            "Best parameters: {'learning_rate': 0.05}\n",
            "CV Best Score (mean accuracy): 0.9692\n",
            "Test Accuracy: 0.9474\n"
          ]
        }
      ]
    },
    {
      "cell_type": "code",
      "source": [
        "\"\"\" 9. Write a Python program to:\n",
        "● Train a CatBoost Classifier\n",
        "● Plot the confusion matrix using seaborn\"\"\"\n",
        "!pip install catboost seaborn scikit-learn matplotlib -q\n",
        "\n",
        "from sklearn.datasets import load_breast_cancer\n",
        "from sklearn.model_selection import train_test_split\n",
        "from sklearn.metrics import confusion_matrix, accuracy_score\n",
        "from catboost import CatBoostClassifier\n",
        "import seaborn as sns\n",
        "import matplotlib.pyplot as plt\n",
        "import numpy as np\n",
        "\n",
        "data = load_breast_cancer()\n",
        "X, y = data.data, data.target\n",
        "class_names = data.target_names\n",
        "\n",
        "X_train, X_test, y_train, y_test = train_test_split(\n",
        "    X, y, test_size=0.2, random_state=42, stratify=y\n",
        ")\n",
        "\n",
        "clf = CatBoostClassifier(\n",
        "    iterations=300,\n",
        "    learning_rate=0.1,\n",
        "    depth=6,\n",
        "    loss_function=\"Logloss\",\n",
        "    random_seed=42,\n",
        "    verbose=False\n",
        ")\n",
        "clf.fit(X_train, y_train)\n",
        "\n",
        "y_pred = clf.predict(X_test)\n",
        "acc = accuracy_score(y_test, y_pred)\n",
        "print(f\"Test Accuracy: {acc:.4f}\")\n",
        "\n",
        "cm = confusion_matrix(y_test, y_pred)\n",
        "cm_norm = cm.astype(float) / cm.sum(axis=1, keepdims=True)\n",
        "\n",
        "fig, axes = plt.subplots(1, 2, figsize=(10, 4))\n",
        "\n",
        "sns.heatmap(cm, annot=True, fmt=\"d\", cmap=\"Blues\",\n",
        "            xticklabels=class_names, yticklabels=class_names, ax=axes[0])\n",
        "axes[0].set_title(\"Confusion Matrix (Counts)\")\n",
        "axes[0].set_xlabel(\"Predicted\")\n",
        "axes[0].set_ylabel(\"Actual\")\n",
        "\n",
        "sns.heatmap(cm_norm, annot=True, fmt=\".2f\", cmap=\"Greens\",\n",
        "            xticklabels=class_names, yticklabels=class_names, ax=axes[1])\n",
        "axes[1].set_title(\"Confusion Matrix (Normalized)\")\n",
        "axes[1].set_xlabel(\"Predicted\")\n",
        "axes[1].set_ylabel(\"Actual\")\n",
        "\n",
        "plt.tight_layout()\n",
        "plt.show()"
      ],
      "metadata": {
        "colab": {
          "base_uri": "https://localhost:8080/",
          "height": 424
        },
        "id": "9yJaDWs9iGmX",
        "outputId": "f6e530f6-8cf0-43d7-e1b5-0964396a6425"
      },
      "execution_count": 7,
      "outputs": [
        {
          "output_type": "stream",
          "name": "stdout",
          "text": [
            "Test Accuracy: 0.9649\n"
          ]
        },
        {
          "output_type": "display_data",
          "data": {
            "text/plain": [
              "<Figure size 1000x400 with 4 Axes>"
            ],
            "image/png": "[encoded data removed]"
          },
          "metadata": {}
        }
      ]
    },
    {
      "cell_type": "markdown",
      "source": [
        "10. You're working for a FinTech company trying to predict loan default using\n",
        "customer demographics and transaction behavior.\n",
        "The dataset is imbalanced, contains missing values, and has both numeric and\n",
        "categorical features.\n",
        "Describe your step-by-step data science pipeline using boosting techniques:\n",
        "● Data preprocessing & handling missing/categorical values\n",
        "● Choice between AdaBoost, XGBoost, or CatBoost\n",
        "● Hyperparameter tuning strategy\n",
        "● Evaluation metrics you'd choose and why\n",
        "● How the business would benefit from your model\n",
        "\n",
        "1) Data preprocessing: build time-aware splits to avoid leakage; impute numeric features with median and add missing-value indicators; for categorical features, prefer native handling (CatBoost) or target-safe encodings (ordered/mean encoding with out-of-fold scheme) if using XGBoost/AdaBoost; engineer behavior aggregates (rolling delinquency counts, utilization ratios, recent-to-historic spend, income volatility), clip outliers, and standardize only for linear benchmarks.\n",
        "\n",
        "2) Model choice: start with CatBoost for mixed tabular data because it natively handles categorical variables and missing values with ordered target statistics; benchmark XGBoost when features are mostly numeric or when GPU/latency is critical; keep AdaBoost as a simple, high-bias baseline or when shallow stumps suffice under strict interpretability constraints.\n",
        "\n",
        "3) Hyperparameter tuning: use stratified, time-aware cross-validation with early stopping on a validation fold; tune learning_rate, iterations/estimators, depth/max_depth, L2/L1 regularization, min_child_weight, subsample and colsample, and class weights/scale_pos_weight; prefer Bayesian/Optuna or coarse-to-fine grids, then probability calibration (Platt/isotonic) for threshold setting.\n",
        "\n",
        "4) Imbalance and overfitting: set class weights or scale_pos_weight; avoid naive oversampling on full data—if sampling is used, do it within CV folds; constrain depth, use regularization and subsampling, and rely on early stopping; monitor drift via rolling backtests and retrain on a cadence.\n",
        "\n",
        "5) Evaluation: optimize PR-AUC and recall at a fixed high precision (to cap false positives), report ROC-AUC, balanced accuracy, F1, and cost-based metrics (expected loss using PD×LGD×EAD); pick an operating threshold from validation; assess calibration (Brier score, calibration curve) and stability by segments (product, geography, income band); provide SHAP global and local explanations for governance.\n",
        "\n",
        "6) Business benefit: improved default discrimination lowers credit losses and enables risk-based pricing/limits; calibrated PDs support provisioning and capital allocation; controlling false positives preserves approvals and customer experience; explainable, monitored boosting models enhance compliance, auditability, and portfolio stability over time."
      ],
      "metadata": {
        "id": "d3WXsr8Sjymz"
      }
    }
  ]
}