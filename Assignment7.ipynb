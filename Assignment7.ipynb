{
  "nbformat": 4,
  "nbformat_minor": 0,
  "metadata": {
    "colab": {
      "provenance": []
    },
    "kernelspec": {
      "name": "python3",
      "display_name": "Python 3"
    },
    "language_info": {
      "name": "python"
    }
  },
  "cells": [
    {
      "cell_type": "markdown",
      "source": [
        "### Restful API & Flask"
      ],
      "metadata": {
        "id": "R0y1zPa7N-71"
      }
    },
    {
      "cell_type": "markdown",
      "source": [
        "1. What is a RESTful API?\n",
        "- A RESTful API is a web service that follows the principles of REST (Representational State Transfer), allowing clients to interact with server resources using standard HTTP methods like `GET`, `POST`, `PUT`, and `DELETE`. It uses URLs to access resources and returns data, typically in JSON format.\n",
        "\n",
        "2. Explain the concept of API specification?\n",
        "- An API specification is a detailed description of how an API works. It defines the endpoints, request methods, input parameters, response formats, and error codes. It serves as a contract between the API provider and consumers, ensuring consistent integration and communication.\n",
        "\n",
        "3. What is Flask, and why is it popular for building APIs?\n",
        "- Flask is a lightweight and flexible Python web framework used to build web applications and APIs. It’s popular for building APIs because:\n",
        "\n",
        "* Minimal and easy to use — great for quick development.\n",
        "* Highly extensible — lets you add only what you need.\n",
        "* Built-in support for routing, request handling, and JSON.\n",
        "* Well-documented and has a large community.\n",
        "* Ideal for RESTful API development due to its simplicity and control.\n",
        "\n",
        "Flask gives developers full control over the structure and behavior of their application, making it a top choice for small to medium-sized API projects.\n",
        "\n",
        "4. What is routing in Flask?\n",
        "- Routing in Flask is the process of mapping URLs to functions in your application. Each route defines a URL path and the function that should be called when that path is accessed. It allows Flask to respond to different web requests like /home or /api/data.\n",
        "\n",
        "5. How do you create a simple Flask application?\n",
        "- A simple Flask application is created by installing Flask, importing it into a Python file, and defining routes using decorators like @app.route('/'). The route connects a URL to a function that returns a response, such as \"Hello, Flask!\". The app runs using app.run(), and you can view it in a browser at http://127.0.0.1:5000/. It's an easy way to start building web apps or APIs with Python.\n",
        "\n",
        "6. What are HTTP methods used in RESTful APIs?\n",
        "- HTTP methods commonly used in RESTful APIs include GET (to retrieve data), POST (to create new resources), PUT (to update existing resources), PATCH (to partially update resources), and DELETE (to remove resources). These methods correspond to CRUD operations and help clients interact with server resources in a standardized way.\n",
        "\n",
        "7. What is the purpose of the @app.route() decorator in Flask?\n",
        "- The @app.route() decorator in Flask is used to bind a URL path to a specific function (called a view function). It tells Flask which function should handle requests sent to that URL, enabling you to define different routes/endpoints in your web application or API.\n",
        "\n",
        "8. What is the difference between GET and POST HTTP methods?\n",
        "- The GET method is used to request data from a server and should not change any data; it sends parameters in the URL and is idempotent. The POST method is used to submit data to the server to create or update resources, sending data in the request body, and can change server state. GET is typically for retrieving, while POST is for sending or modifying data.\n",
        "\n",
        "9. How do you handle errors in Flask APIs?\n",
        "- In Flask APIs, errors are handled by defining error handler functions using the @app.errorhandler() decorator for specific HTTP status codes (like 404 or 500). These handlers return custom responses or JSON messages to the client. You can also use try-except blocks within routes to catch exceptions and return appropriate error responses.\n",
        "\n",
        "10. How do you connect Flask to a SQL database?\n",
        "- To connect Flask to a SQL database, you typically use an ORM like SQLAlchemy or a database driver (e.g., sqlite3, psycopg2 for PostgreSQL). With SQLAlchemy, you install the package, configure the database URI in your Flask app, and define models representing database tables. Flask-SQLAlchemy simplifies this integration by providing convenient tools to manage the database connection, perform queries, and handle migrations.\n",
        "\n",
        "11. What is the role of Flask-SQLAlchemy?\n",
        "- Flask-SQLAlchemy is an extension that simplifies using SQLAlchemy with Flask by providing easy integration between Flask and the database ORM. It manages database connections, configurations, and helps define models and perform database operations with minimal setup, making it easier to work with SQL databases in Flask applications.\n",
        "\n",
        "12. What are Flask blueprints, and how are they useful?\n",
        "- Flask blueprints are a way to organize a Flask application into modular, reusable components by grouping routes, templates, and static files. They help structure large apps by separating functionality into distinct parts, making the code more maintainable, scalable, and easier to collaborate on.\n",
        "\n",
        "13. What is the purpose of Flask's request object?\n",
        "- Flask's request object provides access to all incoming request data, such as form inputs, JSON payloads, query parameters, headers, and cookies. It allows your app to read and process data sent by the client during an HTTP request.\n",
        "\n",
        "14. How do you create a RESTful API endpoint using Flask?\n",
        "- To create a RESTful API endpoint in Flask, you define a route with the @app.route() decorator specifying the URL and allowed HTTP methods (like GET, POST). Inside the route function, you handle the request, process data (often using JSON), and return a response, typically in JSON format using flask.jsonify.\n",
        "\n",
        "15. What is the purpose of Flask's jsonify() function?\n",
        "- Flask's jsonify() function converts Python data structures like dictionaries or lists into a JSON-formatted HTTP response with the correct Content-Type header, making it easy to send JSON data from your Flask app to clients.\n",
        "\n",
        "16. Explain Flask’s url_for() function?\n",
        "- Flask’s url_for() function generates a URL for a given view function name, allowing you to build links dynamically without hardcoding paths. This makes your code more maintainable and flexible, especially when routes change.\n",
        "\n",
        "17. How does Flask handle static files (CSS, JavaScript, etc.)?\n",
        "- Flask automatically serves static files like CSS, JavaScript, and images from a folder named static in your project directory. You place your static assets there, and Flask makes them accessible via the /static/ URL path. In templates, you use url_for('static', filename='path/to/file') to generate the correct URL for these files.\n",
        "\n",
        "18.  What is an API specification, and how does it help in building a Flask API?\n",
        "- An API specification is a detailed blueprint that defines how an API should behave, including its endpoints, request/response formats, methods (GET, POST, etc.), and data types. In Flask, an API specification helps developers design, document, and maintain the API consistently. It ensures clear communication between frontend and backend teams, supports automated validation and testing, and enables tools like Swagger or OpenAPI to generate interactive documentation and client SDKs.\n",
        "\n",
        "19. What are HTTP status codes, and why are they important in a Flask API?\n",
        "- HTTP status codes are standardized numbers returned by a server to indicate the result of a client's request. In a Flask API, they are important because they clearly communicate the outcome of each request—such as success (200 OK), client errors (400 Bad Request), or server errors (500 Internal Server Error). Using proper status codes helps clients understand how to handle responses and ensures better debugging, error handling, and overall API reliability.\n",
        "\n",
        "20. How do you handle POST requests in Flask?\n",
        "- In Flask, you handle POST requests by defining a route with the methods=['POST'] argument and accessing the submitted data using request.form for form data or request.json for JSON data.\n",
        "\n",
        "21. How would you secure a Flask API?\n",
        "- To secure a Flask API, you can implement authentication (like API keys, JWT, or OAuth), use HTTPS to encrypt data in transit, validate and sanitize input to prevent injection attacks, and apply rate limiting to block abuse. Additionally, setting proper CORS policies and using Flask extensions like Flask-Login, Flask-JWT, or Flask-Limiter helps enhance security.\n",
        "\n",
        "22. What is the significance of the Flask-RESTful extension?\n",
        "- The Flask-RESTful extension simplifies building REST APIs with Flask by providing tools to quickly define resources, handle HTTP methods, and manage request parsing and response formatting. It promotes cleaner, more organized code and supports features like input validation and automatic error handling, making API development faster and more consistent.\n",
        "\n",
        "23. What is the role of Flask’s session object?\n",
        "- Flask’s session object is used to store data across requests for a specific user, allowing the app to remember information like login status or user preferences. It stores data on the server-side (with a secure cookie on the client) and is useful for managing user sessions in a secure and lightweight way."
      ],
      "metadata": {
        "id": "wkOftGlpOGX4"
      }
    },
    {
      "cell_type": "code",
      "execution_count": 3,
      "metadata": {
        "colab": {
          "base_uri": "https://localhost:8080/"
        },
        "id": "LuWqA4-vNu2S",
        "outputId": "e9512f9b-4e49-49d3-bfcc-671b622e45e7",
        "collapsed": true
      },
      "outputs": [
        {
          "output_type": "stream",
          "name": "stdout",
          "text": [
            "Requirement already satisfied: flask-ngrok in /usr/local/lib/python3.11/dist-packages (0.0.25)\n",
            "Requirement already satisfied: Flask>=0.8 in /usr/local/lib/python3.11/dist-packages (from flask-ngrok) (3.1.1)\n",
            "Requirement already satisfied: requests in /usr/local/lib/python3.11/dist-packages (from flask-ngrok) (2.32.3)\n",
            "Requirement already satisfied: blinker>=1.9.0 in /usr/local/lib/python3.11/dist-packages (from Flask>=0.8->flask-ngrok) (1.9.0)\n",
            "Requirement already satisfied: click>=8.1.3 in /usr/local/lib/python3.11/dist-packages (from Flask>=0.8->flask-ngrok) (8.2.1)\n",
            "Requirement already satisfied: itsdangerous>=2.2.0 in /usr/local/lib/python3.11/dist-packages (from Flask>=0.8->flask-ngrok) (2.2.0)\n",
            "Requirement already satisfied: jinja2>=3.1.2 in /usr/local/lib/python3.11/dist-packages (from Flask>=0.8->flask-ngrok) (3.1.6)\n",
            "Requirement already satisfied: markupsafe>=2.1.1 in /usr/local/lib/python3.11/dist-packages (from Flask>=0.8->flask-ngrok) (3.0.2)\n",
            "Requirement already satisfied: werkzeug>=3.1.0 in /usr/local/lib/python3.11/dist-packages (from Flask>=0.8->flask-ngrok) (3.1.3)\n",
            "Requirement already satisfied: charset-normalizer<4,>=2 in /usr/local/lib/python3.11/dist-packages (from requests->flask-ngrok) (3.4.2)\n",
            "Requirement already satisfied: idna<4,>=2.5 in /usr/local/lib/python3.11/dist-packages (from requests->flask-ngrok) (3.10)\n",
            "Requirement already satisfied: urllib3<3,>=1.21.1 in /usr/local/lib/python3.11/dist-packages (from requests->flask-ngrok) (2.4.0)\n",
            "Requirement already satisfied: certifi>=2017.4.17 in /usr/local/lib/python3.11/dist-packages (from requests->flask-ngrok) (2025.6.15)\n",
            "Requirement already satisfied: flask in /usr/local/lib/python3.11/dist-packages (3.1.1)\n",
            "Requirement already satisfied: blinker>=1.9.0 in /usr/local/lib/python3.11/dist-packages (from flask) (1.9.0)\n",
            "Requirement already satisfied: click>=8.1.3 in /usr/local/lib/python3.11/dist-packages (from flask) (8.2.1)\n",
            "Requirement already satisfied: itsdangerous>=2.2.0 in /usr/local/lib/python3.11/dist-packages (from flask) (2.2.0)\n",
            "Requirement already satisfied: jinja2>=3.1.2 in /usr/local/lib/python3.11/dist-packages (from flask) (3.1.6)\n",
            "Requirement already satisfied: markupsafe>=2.1.1 in /usr/local/lib/python3.11/dist-packages (from flask) (3.0.2)\n",
            "Requirement already satisfied: werkzeug>=3.1.0 in /usr/local/lib/python3.11/dist-packages (from flask) (3.1.3)\n"
          ]
        }
      ],
      "source": [
        "!pip install flask-ngrok\n",
        "!pip install flask"
      ]
    },
    {
      "cell_type": "code",
      "source": [
        "# 1.  How do you create a basic Flask application4?\n",
        "from flask import Flask\n",
        "app = Flask(__name__)\n",
        "\n",
        "@app.route('/')\n",
        "def home():\n",
        "    return 'Hello, Flask!'\n",
        "\n",
        "if __name__ == '__main__':\n",
        "    app.run(debug=True)"
      ],
      "metadata": {
        "id": "IIZxShZ3-Rti"
      },
      "execution_count": null,
      "outputs": []
    },
    {
      "cell_type": "code",
      "source": [
        "# 2.  How do you serve static files like images or CSS in Flask?\n",
        "from flask import Flask, send_from_directory\n",
        "app = Flask(__name__)\n",
        "\n",
        "@app.route('/static/<filename>')\n",
        "def send_static(filename):\n",
        "    return send_from_directory('static', filename)\n",
        "\n",
        "if __name__ == '__main__':\n",
        "    app.run(debug=True)"
      ],
      "metadata": {
        "id": "X3v7m4a4I2qh"
      },
      "execution_count": null,
      "outputs": []
    },
    {
      "cell_type": "code",
      "source": [
        "# 3. How do you define different routes with different HTTP methods in Flask?\n",
        "from flask import Flask, request\n",
        "\n",
        "app = Flask(__name__)\n",
        "\n",
        "@app.route('/get', methods=['GET'])\n",
        "def get_data():\n",
        "    return 'This is a GET request'\n",
        "\n",
        "if __name__ == '__main__':\n",
        "    app.run(debug=True)"
      ],
      "metadata": {
        "id": "3vvla2g0I8hF"
      },
      "execution_count": null,
      "outputs": []
    },
    {
      "cell_type": "code",
      "source": [
        "# 4. How do you render HTML templates in Flask?\n",
        "from flask import Flask, render_template\n",
        "\n",
        "app = Flask(__name__)\n",
        "\n",
        "@app.route('/')\n",
        "def home():\n",
        "    return render_template('index.html', name='Alice')\n",
        "\n",
        "if __name__ == '__main__':\n",
        "    app.run(debug=True)\n"
      ],
      "metadata": {
        "id": "6w64NlXsDryH"
      },
      "execution_count": null,
      "outputs": []
    },
    {
      "cell_type": "code",
      "source": [
        "# 5. How can you generate URLs for routes in Flask using url_for?\n",
        "from flask import Flask, url_for, redirect\n",
        "\n",
        "app = Flask(__name__)\n",
        "\n",
        "@app.route('/')\n",
        "def home():\n",
        "    return 'Welcome to the homepage!'\n",
        "\n",
        "@app.route('/profile')\n",
        "def profile():\n",
        "    return 'This is the user profile.'\n",
        "\n",
        "@app.route('/go-to-profile')\n",
        "def go_to_profile():\n",
        "    return redirect(url_for('profile'))\n",
        "\n",
        "if __name__ == '__main__':\n",
        "    app.run(debug=True)\n"
      ],
      "metadata": {
        "id": "BmaBQGz6EwvM"
      },
      "execution_count": null,
      "outputs": []
    },
    {
      "cell_type": "code",
      "source": [
        "# 6. How do you handle forms in Flask?\n",
        "from flask import Flask, render_template, request\n",
        "\n",
        "app = Flask(__name__)\n",
        "\n",
        "@app.route('/', methods=['GET', 'POST'])\n",
        "def form():\n",
        "    if request.method == 'POST':\n",
        "        name = request.form['name']\n",
        "        return f'Hello, {name}!'\n",
        "    return render_template('form.html')\n",
        "\n",
        "if __name__ == '__main__':\n",
        "    app.run(debug=True)\n"
      ],
      "metadata": {
        "id": "iu4KITjNFAXH"
      },
      "execution_count": null,
      "outputs": []
    },
    {
      "cell_type": "code",
      "source": [
        "# 7. How can you validate form data in Flask?\n",
        "pip install flask-wtf\n",
        "from flask import Flask, render_template, request\n",
        "from flask_wtf import FlaskForm\n",
        "from wtforms import StringField, SubmitField\n",
        "from wtforms.validators import DataRequired\n",
        "\n",
        "app = Flask(__name__)\n",
        "app.secret_key = 'your_secret_key'\n",
        "\n",
        "class NameForm(FlaskForm):\n",
        "    name = StringField('Name', validators=[DataRequired()])\n",
        "    submit = SubmitField('Submit')\n",
        "\n",
        "@app.route('/', methods=['GET', 'POST'])\n",
        "def index():\n",
        "    form = NameForm()\n",
        "    if form.validate_on_submit():\n",
        "        return f\"Hello, {form.name.data}!\"\n",
        "    return render_template('form.html', form=form)\n",
        "\n",
        "if __name__ == '__main__':\n",
        "    app.run(debug=True)\n"
      ],
      "metadata": {
        "id": "ImSa0nz4FNTG"
      },
      "execution_count": null,
      "outputs": []
    },
    {
      "cell_type": "code",
      "source": [
        "# 8. How do you manage sessions in Flask?\n",
        "from flask import Flask, session, redirect, url_for, request\n",
        "\n",
        "app = Flask(__name__)\n",
        "app.secret_key = 'your_secret_key'\n",
        "\n",
        "@app.route('/')\n",
        "def home():\n",
        "    if 'username' in session:\n",
        "        return f\"Logged in as {session['username']}\"\n",
        "    return 'You are not logged in'\n",
        "\n",
        "@app.route('/login', methods=['GET', 'POST'])\n",
        "def login():\n",
        "    if request.method == 'POST':\n",
        "        session['username'] = request.form['username']\n",
        "        return redirect(url_for('home'))\n",
        "    return '''\n",
        "        <form method=\"POST\">\n",
        "            Username: <input type=\"text\" name=\"username\">\n",
        "            <input type=\"submit\" value=\"Login\">\n",
        "        </form>\n",
        "    '''\n",
        "\n",
        "@app.route('/logout')\n",
        "def logout():\n",
        "    session.pop('username', None)\n",
        "    return redirect(url_for('home'))\n",
        "\n",
        "if __name__ == '__main__':\n",
        "    app.run(debug=True)\n"
      ],
      "metadata": {
        "id": "2pAP-GOuFjkn"
      },
      "execution_count": null,
      "outputs": []
    },
    {
      "cell_type": "code",
      "source": [
        "# 9. How do you redirect to a different route in Flask?\n",
        "from flask import Flask, redirect, url_for\n",
        "\n",
        "app = Flask(__name__)\n",
        "\n",
        "@app.route('/')\n",
        "def home():\n",
        "    return 'Welcome to the Home Page!'\n",
        "\n",
        "@app.route('/login')\n",
        "def login():\n",
        "    return 'Please log in.'\n",
        "\n",
        "@app.route('/go-to-login')\n",
        "def go_to_login():\n",
        "    return redirect(url_for('login'))\n",
        "\n",
        "if __name__ == '__main__':\n",
        "    app.run(debug=True)\n"
      ],
      "metadata": {
        "id": "YtSblh5wF3gs"
      },
      "execution_count": null,
      "outputs": []
    },
    {
      "cell_type": "code",
      "source": [
        "# 10. How do you handle errors in Flask (e.g., 404)?\n",
        "from flask import Flask, render_template\n",
        "\n",
        "app = Flask(__name__)\n",
        "\n",
        "@app.route('/')\n",
        "def home():\n",
        "    return 'Welcome to the Home Page!'\n",
        "\n",
        "@app.errorhandler(404)\n",
        "def page_not_found(e):\n",
        "    return render_template('404.html'), 404\n",
        "\n",
        "if __name__ == '__main__':\n",
        "    app.run(debug=True)\n"
      ],
      "metadata": {
        "id": "P1N2PirzGE9b"
      },
      "execution_count": null,
      "outputs": []
    },
    {
      "cell_type": "code",
      "source": [
        "# 11. How do you structure a Flask app using Blueprints?\n",
        "from flask import Blueprint\n",
        "\n",
        "home_bp = Blueprint('home', __name__)\n",
        "\n",
        "@home_bp.route('/')\n",
        "def home():\n",
        "    return 'Welcome to the Home Page!'\n",
        "from .routes import home_bp\n",
        "from flask import Flask\n",
        "from home.routes import home_bp\n",
        "\n",
        "app = Flask(__name__)\n",
        "app.register_blueprint(home_bp)\n",
        "\n",
        "if __name__ == '__main__':\n",
        "    app.run(debug=True)\n"
      ],
      "metadata": {
        "id": "6A1glAuzGTVt"
      },
      "execution_count": null,
      "outputs": []
    },
    {
      "cell_type": "code",
      "source": [
        "# 12. How do you define a custom Jinja filter in Flask?\n",
        "from flask import Flask, render_template\n",
        "\n",
        "app = Flask(__name__)\n",
        "\n",
        "@app.template_filter('reverse')\n",
        "def reverse_filter(s):\n",
        "    return s[::-1]\n",
        "\n",
        "@app.route('/')\n",
        "def index():\n",
        "    return render_template('index.html', message=\"Hello Flask\")\n",
        "\n",
        "if __name__ == '__main__':\n",
        "    app.run(debug=True)"
      ],
      "metadata": {
        "id": "xqhuwbVGGyHc"
      },
      "execution_count": null,
      "outputs": []
    },
    {
      "cell_type": "code",
      "source": [
        "# 13. How can you redirect with query parameters in Flask?\n",
        "from flask import Flask, redirect, url_for\n",
        "app = Flask(__name__)\n",
        "\n",
        "@app.route('/redirect_with_query')\n",
        "def redirect_with_query():\n",
        "    return redirect(url_for('home', username='John'))\n",
        "\n",
        "@app.route('/home')\n",
        "def home():\n",
        "    return f'Welcome, {request.args.get(\"username\")}'\n",
        "\n",
        "if __name__ == '__main__':\n",
        "    app.run(debug=True)"
      ],
      "metadata": {
        "id": "LspvLsfjHaWM"
      },
      "execution_count": null,
      "outputs": []
    },
    {
      "cell_type": "code",
      "source": [
        "# 14. How do you return JSON responses in Flask?\n",
        "from flask import Flask, jsonify\n",
        "\n",
        "app = Flask(__name__)\n",
        "\n",
        "@app.route('/api/data')\n",
        "def get_data():\n",
        "    data = {\n",
        "        'name': 'Krishna',\n",
        "        'age': 23,\n",
        "        'city': 'Lucknow'\n",
        "    }\n",
        "    return jsonify(data)\n",
        "\n",
        "if __name__ == '__main__':\n",
        "    app.run(debug=True)\n"
      ],
      "metadata": {
        "id": "crOhN1JGHziA"
      },
      "execution_count": null,
      "outputs": []
    },
    {
      "cell_type": "code",
      "source": [
        "# 15. How do you capture URL parameters in Flask?\n",
        "from flask import Flask\n",
        "\n",
        "app = Flask(__name__)\n",
        "\n",
        "@app.route('/user/<username>')\n",
        "def show_user(username):\n",
        "    return f'Hello, {username}!'\n",
        "\n",
        "@app.route('/post/<int:post_id>')\n",
        "def show_post(post_id):\n",
        "    return f'Post ID: {post_id}'\n",
        "\n",
        "if __name__ == '__main__':\n",
        "    app.run(debug=True)\n"
      ],
      "metadata": {
        "id": "KnMTZuz7INA2"
      },
      "execution_count": null,
      "outputs": []
    }
  ]
}