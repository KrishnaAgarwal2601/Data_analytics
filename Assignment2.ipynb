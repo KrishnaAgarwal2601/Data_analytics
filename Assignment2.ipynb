{
  "nbformat": 4,
  "nbformat_minor": 0,
  "metadata": {
    "colab": {
      "provenance": []
    },
    "kernelspec": {
      "name": "python3",
      "display_name": "Python 3"
    },
    "language_info": {
      "name": "python"
    }
  },
  "cells": [
    {
      "cell_type": "markdown",
      "source": [
        "# Python - Data Structures"
      ],
      "metadata": {
        "id": "tP0qjLOoJMmO"
      }
    },
    {
      "cell_type": "markdown",
      "source": [
        "1. What are data structures, and why are they important?\n",
        "- Data structures in Python are specialized formats or containers used to store and organize data efficiently.\n",
        "They are important as they provide various ways to store, access, and manipulate data according to specific needs.\n",
        "\n",
        "2. Explain the difference between mutable and immutable data types with examples?\n",
        "-  In Python, mutable data types allow their values to be changed after creation, while immutable data types cannot be altered once created.\n",
        "Example : List,sets and dictionary are mutable data types whereas integers, string and tuples are immutable data types.\n",
        "\n",
        "3. What are the main differences between lists and tuples in Python?\n",
        "- (i) Lists are the data types that are mutable in nature ,i.e, it can be modified after its creation, whereas, tuples are immutable in nature ,i.e., it cannot be modified after its creation.      \n",
        "(ii) Lists are created using square bracket[], whereas, tuples are created using paranthesis().  \n",
        "(iii) Lists are slower and generally takes more space in memory as compared to tuples.\n",
        "\n",
        "4. Describe how dictionaries store data?\n",
        "- In python, dictionaries store data using hash tables. It store data as key-value pairs where each key is hashed to find an index where its value is stored, allowing for fast lookup, insertion, and deletion.\n",
        "\n",
        "5. Why might you use a set instead of a list in Python?\n",
        "- There are following reasons for using set instead of a list in python:-       \n",
        "(i) As sets remove duplicate elements so it contains all the unique elements.   \n",
        "(ii) Sets are faster as compared to lists.                                      \n",
        "(iii) various set operations can also be performed like union, intersection, or difference.\n",
        "\n",
        "6. What is a string in Python, and how is it different from a list?\n",
        "- A string in Python is an immutable sequence of characters used to represent text. It is different from list as strings are immutable whereas lists are mutable in nature.\n",
        "\n",
        "7. How do tuples ensure data integrity in Python?\n",
        "- Tuples ensure data integrity in Python by being immutable, meaning their elements cannot be changed, added, or removed after creation. This immutability prevents accidental modification, making tuples ideal for storing constant or fixed data.\n",
        "\n",
        "8. What is a hash table, and how does it relate to dictionaries in Python?\n",
        "- A hash table is a data structure that maps keys to values using a hash function to compute an index into an array of buckets or slots, from which the desired value can be found. It is related to dictionaries in python as dictionaries are implemented using a hash table.\n",
        "\n",
        "9. Can lists contain different data types in Python?\n",
        "- Yes, lists can contain different data types in Python. A list can hold a mix of integers, floats, strings, booleans, other lists, dictionaries, or any custom objects.\n",
        "\n",
        "10. Explain why strings are immutable in Python.\n",
        "- Strings are immutable in Python to ensure data integrity, hashability and also maintain the performance and reduce memory usage.\n",
        "\n",
        "11. What advantages do dictionaries offer over lists for certain tasks?\n",
        "- Dictionaries offer various advantages over lists like it can be accessed faster as compared to list, dictionaries are in more readable form than list so it makes it easier for the user to understand, and data can be stored in the form of key-value pair in dictionaries which makes it more descriptive.\n",
        "\n",
        "12. Describe a scenario where using a tuple would be preferable over a list?\n",
        "- A tuple is preferable over a list when you need to store a fixed collection of items that should not change throughout the program as tuples are immutable in nature.\n",
        "\n",
        "13. How do sets handle duplicate values in Python?\n",
        "- A set is an unordered collection of unique elements. When you try to add duplicate values to a set, it will simply ignore the duplicate and only keep one occurrence of each value.\n",
        "\n",
        "14. How does the “in” keyword work differently for lists and dictionaries?\n",
        "- In list, \"in\" keyword is used to check if the exact value is present in the list or not, whereas, in dictionaries, \"in\" keyword is used to whether the key exist in the dictionary, not the value associated with the key.\n",
        "\n",
        "15. Can you modify the elements of a tuple? Explain why or why not?\n",
        "- No, we cannot modify the elements of a tuple as tuples are immutable in nature.\n",
        "\n",
        "16. What is a nested dictionary, and give an example of its use case?\n",
        "- A nested dictionary is a dictionary where the value of one or more keys is another dictionary. This allows for representing more complex data structures, where each key can map to another dictionary, which in turn contains more key-value pairs.\n",
        "example:inventory = {\n",
        "    \"electronics\": {\n",
        "        \"laptop\": {\"price\": 999.99, \"stock\": 50},\n",
        "        \"smartphone\": {\"price\": 599.99, \"stock\": 200},\n",
        "        \"headphones\": {\"price\": 49.99, \"stock\": 150}\n",
        "    },\n",
        "    \"clothing\": {\n",
        "        \"t-shirt\": {\"price\": 19.99, \"stock\": 120},\n",
        "        \"jeans\": {\"price\": 39.99, \"stock\": 80},\n",
        "        \"jacket\": {\"price\": 59.99, \"stock\": 60}\n",
        "    },\n",
        "    \"groceries\": {\n",
        "        \"apple\": {\"price\": 1.99, \"stock\": 500},\n",
        "        \"milk\": {\"price\": 2.49, \"stock\": 300},\n",
        "        \"bread\": {\"price\": 1.49, \"stock\": 350}\n",
        "    }\n",
        "}\n",
        "\n",
        "17. Describe the time complexity of accessing elements in a dictionary?\n",
        "- The time complexity of accessing elements in a Python dictionary is O(1) on average, meaning it is a constant time operation. This is because dictionaries are implemented using hash tables.\n",
        "\n",
        "18. In what situations are lists preferred over dictionaries?\n",
        "- Lists are preferred over dictionaries in following situations:\n",
        "(i) in cases where order of the elements is need to be maintained.\n",
        "(ii) in sequence of items.\n",
        "(iii) when we require duplicate elements.\n",
        "\n",
        "19. Why are dictionaries considered unordered, and how does that affect data retrieval?\n",
        "- Dictionaries in Python are considered unordered because they do not maintain the order of key-value pairs as they were inserted. This is due to the underlying implementation of dictionaries, which uses a hash table to store key-value pairs. It affect the data retrieval by accessing the data faster and also order of the data is does not matter in data retrieval.\n",
        "\n",
        "20. Explain the difference between a list and a dictionary in terms of data retrieval.\n",
        "- A dictionary retrieves data by key, where each key maps to a unique value, and it does not allow duplicate keys. While lists are ordered by position, dictionaries are unordered."
      ],
      "metadata": {
        "id": "THLd1YysJXLr"
      }
    },
    {
      "cell_type": "code",
      "execution_count": null,
      "metadata": {
        "id": "bMD_jOLlJGBz",
        "colab": {
          "base_uri": "https://localhost:8080/"
        },
        "outputId": "8b1745b6-f5c2-4818-bc2a-7a2c8b3c0c8e"
      },
      "outputs": [
        {
          "output_type": "stream",
          "name": "stdout",
          "text": [
            "My name is: Krishna\n"
          ]
        }
      ],
      "source": [
        "# 1.  Write a code to create a string with your name and print it.\n",
        "name = \"Krishna\"\n",
        "print(\"My name is:\",name)"
      ]
    },
    {
      "cell_type": "code",
      "source": [
        "# 2. Write a code to find the length of the string \"Hello World\".\n",
        "str = \"Hello World\"\n",
        "print(\"Length of the string is:\",len(str))"
      ],
      "metadata": {
        "colab": {
          "base_uri": "https://localhost:8080/"
        },
        "id": "C56hpPzNIkT0",
        "outputId": "0c2027a2-5db3-4530-d899-2124e32f1cd0"
      },
      "execution_count": null,
      "outputs": [
        {
          "output_type": "stream",
          "name": "stdout",
          "text": [
            "Length of the string is: 11\n"
          ]
        }
      ]
    },
    {
      "cell_type": "code",
      "source": [
        "# 3. Write a code to slice the first 3 characters from the string \"Python Programming\".\n",
        "p = \"Python Programming\"\n",
        "print(p[:3])"
      ],
      "metadata": {
        "colab": {
          "base_uri": "https://localhost:8080/"
        },
        "id": "4cN7mzQdIxNI",
        "outputId": "dfa47ee2-e2df-4bf0-cffd-0e485e95f760"
      },
      "execution_count": null,
      "outputs": [
        {
          "output_type": "stream",
          "name": "stdout",
          "text": [
            "Pyt\n"
          ]
        }
      ]
    },
    {
      "cell_type": "code",
      "source": [
        "# 4. Write a code to convert the string \"hello\" to uppercase.\n",
        "str1= \"hello\"\n",
        "str2= str1.upper()\n",
        "print(str2)"
      ],
      "metadata": {
        "colab": {
          "base_uri": "https://localhost:8080/"
        },
        "id": "PQCIc_OsJtJQ",
        "outputId": "d01292c4-02f4-4465-e9bc-de023e4c4f05"
      },
      "execution_count": null,
      "outputs": [
        {
          "output_type": "stream",
          "name": "stdout",
          "text": [
            "HELLO\n"
          ]
        }
      ]
    },
    {
      "cell_type": "code",
      "source": [
        "# 5. Write a code to replace the word \"apple\" with \"orange\" in the string \"I like apple\".\n",
        "rep = \"I like apple.\"\n",
        "rep.replace('apple','orange')"
      ],
      "metadata": {
        "colab": {
          "base_uri": "https://localhost:8080/",
          "height": 36
        },
        "id": "4Ir4rzotKI38",
        "outputId": "d1d37fd3-3187-431c-8941-9ff6500764a4"
      },
      "execution_count": null,
      "outputs": [
        {
          "output_type": "execute_result",
          "data": {
            "text/plain": [
              "'I like orange.'"
            ],
            "application/vnd.google.colaboratory.intrinsic+json": {
              "type": "string"
            }
          },
          "metadata": {},
          "execution_count": 6
        }
      ]
    },
    {
      "cell_type": "code",
      "source": [
        "# 6. Write a code to create a list with numbers 1 to 5 and print it.\n",
        "list = [1,2,3,4,5]\n",
        "print(list)"
      ],
      "metadata": {
        "colab": {
          "base_uri": "https://localhost:8080/"
        },
        "id": "wweF47FQK2Ii",
        "outputId": "2251363a-badb-4a3b-96d6-c11ecf841287"
      },
      "execution_count": null,
      "outputs": [
        {
          "output_type": "stream",
          "name": "stdout",
          "text": [
            "[1, 2, 3, 4, 5]\n"
          ]
        }
      ]
    },
    {
      "cell_type": "code",
      "source": [
        "# 7. Write a code to append the number 10 to the list [1, 2, 3, 4].\n",
        "list1 = [1,2,3,4]\n",
        "list1.append(10)\n",
        "print(list1)"
      ],
      "metadata": {
        "colab": {
          "base_uri": "https://localhost:8080/"
        },
        "id": "25YFwTBRLgWj",
        "outputId": "53517726-3ad6-4f10-c101-ce8e191b9eaf"
      },
      "execution_count": null,
      "outputs": [
        {
          "output_type": "stream",
          "name": "stdout",
          "text": [
            "[1, 2, 3, 4, 10]\n"
          ]
        }
      ]
    },
    {
      "cell_type": "code",
      "source": [
        "# 8. Write a code to remove the number 3 from the list [1, 2, 3, 4, 5].\n",
        "list2 = [1,2,3,4,5]\n",
        "list2.remove(5)\n",
        "print(list2)"
      ],
      "metadata": {
        "colab": {
          "base_uri": "https://localhost:8080/"
        },
        "id": "CYmDXvu7OWFb",
        "outputId": "a2e5cf24-ca9e-4dc2-868b-1f46a82e6f7e"
      },
      "execution_count": null,
      "outputs": [
        {
          "output_type": "stream",
          "name": "stdout",
          "text": [
            "[1, 2, 3, 4]\n"
          ]
        }
      ]
    },
    {
      "cell_type": "code",
      "source": [
        "# 9. Write a code to access the second element in the list ['a', 'b', 'c', 'd'].\n",
        "list3 = ['a','b','c','d']\n",
        "list3[1]"
      ],
      "metadata": {
        "colab": {
          "base_uri": "https://localhost:8080/",
          "height": 36
        },
        "id": "sA1PHuyXOtva",
        "outputId": "3951e19f-7da2-4aa6-aab5-c050366d04f4"
      },
      "execution_count": null,
      "outputs": [
        {
          "output_type": "execute_result",
          "data": {
            "text/plain": [
              "'b'"
            ],
            "application/vnd.google.colaboratory.intrinsic+json": {
              "type": "string"
            }
          },
          "metadata": {},
          "execution_count": 10
        }
      ]
    },
    {
      "cell_type": "code",
      "source": [
        "# 10. Write a code to reverse the list [10, 20, 30, 40, 50].\n",
        "list4 = [10,20,30,40,50]\n",
        "list4.reverse()\n",
        "print(list4)"
      ],
      "metadata": {
        "colab": {
          "base_uri": "https://localhost:8080/"
        },
        "id": "MItFGrBTPgPZ",
        "outputId": "f94332b9-a035-4bb3-e736-9fc25fd3df61"
      },
      "execution_count": null,
      "outputs": [
        {
          "output_type": "stream",
          "name": "stdout",
          "text": [
            "[50, 40, 30, 20, 10]\n"
          ]
        }
      ]
    },
    {
      "cell_type": "code",
      "source": [
        "# 11. Write a code to create a tuple with the elements 100, 200, 300 and print it.\n",
        "t = (100,200,300)\n",
        "print(t)"
      ],
      "metadata": {
        "colab": {
          "base_uri": "https://localhost:8080/"
        },
        "id": "10YO6zv0QYPi",
        "outputId": "718108eb-ee14-4568-f4ed-bbf001ef3e44"
      },
      "execution_count": null,
      "outputs": [
        {
          "output_type": "stream",
          "name": "stdout",
          "text": [
            "(100, 200, 300)\n"
          ]
        }
      ]
    },
    {
      "cell_type": "code",
      "source": [
        "# 12. Write a code to access the second-to-last element of the tuple ('red', 'green', 'blue', 'yellow').\n",
        "t2 = ('red','green','blue','yellow')\n",
        "t2[-2]"
      ],
      "metadata": {
        "colab": {
          "base_uri": "https://localhost:8080/",
          "height": 36
        },
        "id": "PBuy9ATuQzKZ",
        "outputId": "f64ee66a-d2de-4316-8a64-18256ff93449"
      },
      "execution_count": null,
      "outputs": [
        {
          "output_type": "execute_result",
          "data": {
            "text/plain": [
              "'blue'"
            ],
            "application/vnd.google.colaboratory.intrinsic+json": {
              "type": "string"
            }
          },
          "metadata": {},
          "execution_count": 17
        }
      ]
    },
    {
      "cell_type": "code",
      "source": [
        "# 13. Write a code to find the minimum number in the tuple (10, 20, 5, 15).\n",
        "num = (10,20,5,50)\n",
        "minimum_number=min(num)\n",
        "print(\"minimum_number:\",minimum_number)"
      ],
      "metadata": {
        "colab": {
          "base_uri": "https://localhost:8080/"
        },
        "id": "_rYgDOVVRwQZ",
        "outputId": "3f11e00f-aa9d-46fe-b2ba-c50bcd0a685a"
      },
      "execution_count": null,
      "outputs": [
        {
          "output_type": "stream",
          "name": "stdout",
          "text": [
            "minimum_number: 5\n"
          ]
        }
      ]
    },
    {
      "cell_type": "code",
      "source": [
        "# 14. Write a code to find the index of the element \"cat\" in the tuple ('dog', 'cat', 'rabbit').\n",
        "animals = ('dog', 'cat', 'rabbit')\n",
        "animals.index('cat')"
      ],
      "metadata": {
        "colab": {
          "base_uri": "https://localhost:8080/"
        },
        "id": "OYSqFCsmTllz",
        "outputId": "854649de-19b5-4b07-867c-a338c6a67e17"
      },
      "execution_count": null,
      "outputs": [
        {
          "output_type": "execute_result",
          "data": {
            "text/plain": [
              "1"
            ]
          },
          "metadata": {},
          "execution_count": 23
        }
      ]
    },
    {
      "cell_type": "code",
      "source": [
        "# 15. Write a code to create a tuple containing three different fruits and check if \"kiwi\" is in it.\n",
        "fruits = ('apple','banana','kiwi')\n",
        "if \"kiwi\" in fruits:\n",
        "    print(\"Kiwi is in the tuple.\")\n",
        "else:\n",
        "    print(\"Kiwi is not in the tuple.\")"
      ],
      "metadata": {
        "colab": {
          "base_uri": "https://localhost:8080/"
        },
        "id": "x9cyXFpsXrof",
        "outputId": "c8686223-3a26-4608-9e27-3e43d639b972"
      },
      "execution_count": null,
      "outputs": [
        {
          "output_type": "stream",
          "name": "stdout",
          "text": [
            "Kiwi is in the tuple.\n"
          ]
        }
      ]
    },
    {
      "cell_type": "code",
      "source": [
        "# 16. Write a code to create a set with the elements 'a', 'b', 'c' and print it.\n",
        "set1 ={'a','b','c'}\n",
        "print(set1)"
      ],
      "metadata": {
        "colab": {
          "base_uri": "https://localhost:8080/"
        },
        "id": "rJXi6uDUYSmz",
        "outputId": "78922c50-832d-4e26-bb83-bee958595bfb"
      },
      "execution_count": null,
      "outputs": [
        {
          "output_type": "stream",
          "name": "stdout",
          "text": [
            "{'a', 'b', 'c'}\n"
          ]
        }
      ]
    },
    {
      "cell_type": "code",
      "source": [
        "# 17.  Write a code to clear all elements from the set {1, 2, 3, 4, 5}.\n",
        "set2 = {1,2,3,4,5}\n",
        "set2.clear()\n",
        "print(set2)"
      ],
      "metadata": {
        "colab": {
          "base_uri": "https://localhost:8080/"
        },
        "id": "B4ev_6dLYvmV",
        "outputId": "b82b01b0-b7e2-44f5-b935-7e9c19bfc6ac"
      },
      "execution_count": null,
      "outputs": [
        {
          "output_type": "stream",
          "name": "stdout",
          "text": [
            "set()\n"
          ]
        }
      ]
    },
    {
      "cell_type": "code",
      "source": [
        "# 18. Write a code to remove the element 4 from the set {1, 2, 3, 4}.\n",
        "set3 = {1,2,3,4}\n",
        "set3.remove(4)\n",
        "print(set3)"
      ],
      "metadata": {
        "colab": {
          "base_uri": "https://localhost:8080/"
        },
        "id": "3aryVkYTZXrP",
        "outputId": "57d2f6c2-e3de-4943-b38b-2bd4da7f6878"
      },
      "execution_count": null,
      "outputs": [
        {
          "output_type": "stream",
          "name": "stdout",
          "text": [
            "{1, 2, 3}\n"
          ]
        }
      ]
    },
    {
      "cell_type": "code",
      "source": [
        "# 19. Write a code to find the union of two sets {1, 2, 3} and {3, 4, 5}.\n",
        "set_a = {1,2,3}\n",
        "set_b = {3,4,5}\n",
        "set_c = set_a.union(set_b)\n",
        "print(set_c)"
      ],
      "metadata": {
        "colab": {
          "base_uri": "https://localhost:8080/"
        },
        "id": "npNhnW3zZsc6",
        "outputId": "86275835-7862-4f41-9ef2-336af838fc6a"
      },
      "execution_count": null,
      "outputs": [
        {
          "output_type": "stream",
          "name": "stdout",
          "text": [
            "{1, 2, 3, 4, 5}\n"
          ]
        }
      ]
    },
    {
      "cell_type": "code",
      "source": [
        "# 20. Write a code to find the intersection of two sets {1, 2, 3} and {2, 3, 4}.\n",
        "set_d = {1,2,3}\n",
        "set_e = {2,3,4}\n",
        "set_f = set_d.intersection(set_e)\n",
        "print(set_f)"
      ],
      "metadata": {
        "colab": {
          "base_uri": "https://localhost:8080/"
        },
        "id": "Z_2CAms8avFn",
        "outputId": "fb1adb7f-a509-4808-e1a3-0b7115439c48"
      },
      "execution_count": null,
      "outputs": [
        {
          "output_type": "stream",
          "name": "stdout",
          "text": [
            "{2, 3}\n"
          ]
        }
      ]
    },
    {
      "cell_type": "code",
      "source": [
        "# 21. Write a code to create a dictionary with the keys \"name\", \"age\", and \"city\", and print it.\n",
        "dict1 = {'name':'Krishna', 'age':23, 'city':'Lucknow'}\n",
        "print(dict1)"
      ],
      "metadata": {
        "colab": {
          "base_uri": "https://localhost:8080/"
        },
        "id": "L46iD1kjbLmF",
        "outputId": "09b6af82-7582-4924-9d45-2dc3f2bb1d8a"
      },
      "execution_count": null,
      "outputs": [
        {
          "output_type": "stream",
          "name": "stdout",
          "text": [
            "{'name': 'Krishna', 'age': 23, 'city': 'Lucknow'}\n"
          ]
        }
      ]
    },
    {
      "cell_type": "code",
      "source": [
        "# 22. Write a code to add a new key-value pair \"country\": \"USA\" to the dictionary {'name': 'John', 'age': 25}.\n",
        "dict2 = {'name': 'John', 'age': 25}\n",
        "dict2['country'] = 'USA'\n",
        "print(dict2)"
      ],
      "metadata": {
        "colab": {
          "base_uri": "https://localhost:8080/"
        },
        "id": "ERFCyXWLfzYg",
        "outputId": "02625af1-597c-4a2d-cc52-b27fcd0a05d7"
      },
      "execution_count": null,
      "outputs": [
        {
          "output_type": "stream",
          "name": "stdout",
          "text": [
            "{'name': 'John', 'age': 25, 'country': 'USA'}\n"
          ]
        }
      ]
    },
    {
      "cell_type": "code",
      "source": [
        "# 23. Write a code to access the value associated with the key \"name\" in the dictionary {'name': 'Alice', 'age': 30}.\n",
        "dict3 = {'name': 'Alice', 'age': 30}\n",
        "dict3['name']"
      ],
      "metadata": {
        "colab": {
          "base_uri": "https://localhost:8080/",
          "height": 36
        },
        "id": "BV6Ljve9gccZ",
        "outputId": "bfecd3c2-6aca-45fd-e146-146a24cb39ba"
      },
      "execution_count": null,
      "outputs": [
        {
          "output_type": "execute_result",
          "data": {
            "text/plain": [
              "'Alice'"
            ],
            "application/vnd.google.colaboratory.intrinsic+json": {
              "type": "string"
            }
          },
          "metadata": {},
          "execution_count": 35
        }
      ]
    },
    {
      "cell_type": "code",
      "source": [
        "# 24. Write a code to remove the key \"age\" from the dictionary {'name': 'Bob', 'age': 22, 'city': 'New York'}.\n",
        "dict4= {'name': 'Bob', 'age': 22, 'city': 'New York'}\n",
        "del dict4['age']\n",
        "print(dict4)"
      ],
      "metadata": {
        "colab": {
          "base_uri": "https://localhost:8080/"
        },
        "id": "B3Hijm8giwqr",
        "outputId": "60401df0-ef8d-40a5-b27b-410370db4e0f"
      },
      "execution_count": null,
      "outputs": [
        {
          "output_type": "stream",
          "name": "stdout",
          "text": [
            "{'name': 'Bob', 'city': 'New York'}\n"
          ]
        }
      ]
    },
    {
      "cell_type": "code",
      "source": [
        "# 25. Write a code to check if the key \"city\" exists in the dictionary {'name': 'Alice', 'city': 'Paris'}.\n",
        "dict5 = {'name': 'Alice', 'city': 'Paris'}\n",
        "if 'city' in dict5:\n",
        "    print(\"Key 'city' exists in the dictionary.\")\n",
        "else:\n",
        "    print(\"Key 'city' does not exist in the dictionary.\")"
      ],
      "metadata": {
        "colab": {
          "base_uri": "https://localhost:8080/"
        },
        "id": "lA_snLU8jYWM",
        "outputId": "a07e34ec-2a09-4265-aea9-10efabe6d721"
      },
      "execution_count": null,
      "outputs": [
        {
          "output_type": "stream",
          "name": "stdout",
          "text": [
            "Key 'city' exists in the dictionary.\n"
          ]
        }
      ]
    },
    {
      "cell_type": "code",
      "source": [
        "# 26. Write a code to create a list, a tuple, and a dictionary, and print them all.\n",
        "list_a = [1,2,3,4,5]\n",
        "tuple_a = (1,2,3,4,5)\n",
        "dict_a = {'name':'Krishna', 'age':23, 'city':'Lucknow'}\n",
        "print(list_a)\n",
        "print(tuple_a)\n",
        "print(dict_a)"
      ],
      "metadata": {
        "colab": {
          "base_uri": "https://localhost:8080/"
        },
        "id": "oOuULl3ekuE9",
        "outputId": "955dfd71-b9ba-4046-9cb0-97d34dc8f78f"
      },
      "execution_count": null,
      "outputs": [
        {
          "output_type": "stream",
          "name": "stdout",
          "text": [
            "[1, 2, 3, 4, 5]\n",
            "(1, 2, 3, 4, 5)\n",
            "{'name': 'Krishna', 'age': 23, 'city': 'Lucknow'}\n"
          ]
        }
      ]
    },
    {
      "cell_type": "code",
      "source": [
        "# 27. Write a code to create a list of 5 random numbers between 1 and 100, sort it in ascending order, and print the result.\n",
        "import random\n",
        "random_numbers = [random.randint(1, 100) for _ in range(5)]\n",
        "random_numbers.sort()\n",
        "print(\"Sorted random numbers:\", random_numbers)"
      ],
      "metadata": {
        "colab": {
          "base_uri": "https://localhost:8080/"
        },
        "id": "A07WVdrnly7v",
        "outputId": "0a98d653-d387-4b22-9437-af9d46163e8d"
      },
      "execution_count": null,
      "outputs": [
        {
          "output_type": "stream",
          "name": "stdout",
          "text": [
            "Sorted random numbers: [5, 11, 58, 97, 98]\n"
          ]
        }
      ]
    },
    {
      "cell_type": "code",
      "source": [
        "# 28. Write a code to create a list with strings and print the element at the third index.\n",
        "tools = ['python', 'MS-Excel','PowerBI','SQL','Statistics']\n",
        "print(\"element with index 3:\",tools[3])"
      ],
      "metadata": {
        "colab": {
          "base_uri": "https://localhost:8080/"
        },
        "id": "8Zdv6V50mPV7",
        "outputId": "3e00c643-569e-4ba2-a40d-24d1d82416d7"
      },
      "execution_count": null,
      "outputs": [
        {
          "output_type": "stream",
          "name": "stdout",
          "text": [
            "element with index 3: SQL\n"
          ]
        }
      ]
    },
    {
      "cell_type": "code",
      "source": [
        "# 29. Write a code to combine two dictionaries into one and print the result.\n",
        "dict_b = {'a': 1, 'b': 2}\n",
        "dict_c= {'c': 3, 'd': 4}\n",
        "dict_d = {**dict_b,**dict_c}\n",
        "print(\"Combined dictionary:\",dict_d)\n"
      ],
      "metadata": {
        "colab": {
          "base_uri": "https://localhost:8080/"
        },
        "id": "BqCU66e1m3ud",
        "outputId": "8f5b6549-3730-4e23-94f7-91bee2ad2745"
      },
      "execution_count": null,
      "outputs": [
        {
          "output_type": "stream",
          "name": "stdout",
          "text": [
            "Combined dictionary: {'a': 1, 'b': 2, 'c': 3, 'd': 4}\n"
          ]
        }
      ]
    },
    {
      "cell_type": "code",
      "source": [
        "# 30. Write a code to convert a list of strings into a set\n",
        "list5 = [11,22,33,44,55]\n",
        "set_list= set(list5)\n",
        "print(set_list)"
      ],
      "metadata": {
        "colab": {
          "base_uri": "https://localhost:8080/"
        },
        "id": "Nhs9fzR3nT0z",
        "outputId": "f6c9ab82-c4b7-4fab-970d-337eee6304f5"
      },
      "execution_count": null,
      "outputs": [
        {
          "output_type": "stream",
          "name": "stdout",
          "text": [
            "{33, 11, 44, 22, 55}\n"
          ]
        }
      ]
    }
  ]
}