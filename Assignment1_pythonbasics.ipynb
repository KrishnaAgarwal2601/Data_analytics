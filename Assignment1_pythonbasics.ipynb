{
  "nbformat": 4,
  "nbformat_minor": 0,
  "metadata": {
    "colab": {
      "provenance": []
    },
    "kernelspec": {
      "name": "python3",
      "display_name": "Python 3"
    },
    "language_info": {
      "name": "python"
    }
  },
  "cells": [
    {
      "cell_type": "markdown",
      "source": [
        "#PythonBasics\n",
        "\n",
        "\n",
        "\n",
        "\n",
        "\n",
        "\n",
        "\n",
        "\n",
        "\n",
        "\n",
        "\n"
      ],
      "metadata": {
        "id": "gra7eaPucrSO"
      }
    },
    {
      "cell_type": "markdown",
      "source": [
        "Q1-> What is Python, and why is it popular?\n",
        "- Pyhton is a high level programming language which is used widely used in different industries. It is a interpreted and object-oriented programming language.\n",
        "- Python is preferred over other languages due to its following features:\n",
        "-1- it is widely used in almost all the indutries.\n",
        "-2- it is very easy to learn.\n",
        "-3- it contains many pre-defined libraries which makes it easier for the programmer to code in python.\n",
        "-4- it is a very versatile language, i.e., can be inetgrated with several other languages and databases.\n",
        "\n",
        "Q2-> What is an interpreter in Python?\n",
        "- In python, an interpreter executes the code line by line. It converts the high-level language into a machine-level language and executes the code using the python virtual machine.\n",
        "\n",
        "Q3-> What are pre-defined keywords in Python?\n",
        "- Pre-defined keywords are the words that have some specific meaning and are used to perform specific task in a python program. Eg- print, if, etc.\n",
        "\n",
        "Q4-> Can keywords be used as variable names?\n",
        "- No keywords cannot be used as a variable name.\n",
        "\n",
        "Q5-> What is mutability in Python?\n",
        "- In Python, mutability is defined as an ability of an object through which it can be changed or modified after its creation.\n",
        "\n",
        "Q6-> Why are lists mutable, but tuples are immutable?\n",
        "- Lists are mutable because it allows the user to change or modify the content inside the list, whereas, tuples are immutable because it does not allow the user to chage or modify the content of the tuple.\n",
        "\n",
        "Q7-> What is the difference between “==” and “is” operators in Python?\n",
        "- \"==\" operator is used for checking the value of objects for their comparision, whereas, \"is\" operator is used for checking whether the variables  are pointing to same object in the memory or not.\n",
        "\n",
        "Q8-> What are logical operators in Python?\n",
        "- (and,or,not) are the logical operators in python which are used to evaluate and combine the expressions and give boolean as a result. They are mainly used for writing conditional statements.\n",
        "\n",
        "Q9-> What is type casting in Python?\n",
        "- Type casting in python is defined as the process of converting a variable from one one datatype to another. This can be both explicit or implicit, i.e., user can specify the datatype for conversion or python can automatically convert the datatype.\n",
        "\n",
        "Q10->What is the difference between implicit and explicit type casting?\n",
        "- In implicit typecasting conversion of datatype is done automatically by the compiler, whereas, in explicit typecasting conversion of datatype is done by the programmer using the built-in functions like int(), float(), str(), etc.\n",
        "\n",
        "Q11-> What is the purpose of conditional statements in Python?\n",
        "- The conditional statements are used in python to check whether the condition is true or false, and execute the line of code accordingly.\n",
        "\n",
        "Q12->How does the elif statement work?\n",
        "- 'elif' statement are used when we require multiple conditional statements. The 'elif' checks the condition if the 'if' statement was false, so that multiple statements can be checked in a sequence.\n",
        "\n",
        "Q13-> What is the difference between for and while loops?\n",
        "- In a 'for' loop, range is spefied, i.e., we know that how many times the code will execute, whereas, in 'while' loop, the range is not specified, i.e., the code will be executed multiple times as long as the given condition is true.\n",
        "\n",
        "Q14-> Describe a scenario where a while loop is more suitable than a for loop?\n",
        "- While loop is more suitable than a for loop in a situation where we do not know the number of iterations beforehand.\n",
        "\n"
      ],
      "metadata": {
        "id": "LpgHxD8OU9u-"
      }
    },
    {
      "cell_type": "code",
      "execution_count": null,
      "metadata": {
        "id": "xmwbRO2bcoDD",
        "colab": {
          "base_uri": "https://localhost:8080/"
        },
        "outputId": "961f7a9e-3140-443e-90b2-792a2f91e9f1"
      },
      "outputs": [
        {
          "output_type": "stream",
          "name": "stdout",
          "text": [
            "Hello, World!\n"
          ]
        }
      ],
      "source": [
        "# 1. Write a Python program to print \"Hello, World!\n",
        "print(\"Hello, World!\")"
      ]
    },
    {
      "cell_type": "code",
      "source": [
        "# 2. Write a Python program that displays your name and age\n",
        "name= input(\"enter your name \")\n",
        "age= input(\"enter your age \")\n",
        "print(\"My name is:\",name)\n",
        "print(\"My age is:\",age)"
      ],
      "metadata": {
        "colab": {
          "base_uri": "https://localhost:8080/"
        },
        "id": "3sdY2jaJmA2V",
        "outputId": "95672fd2-9ea3-4aed-99b5-29251d859081"
      },
      "execution_count": null,
      "outputs": [
        {
          "output_type": "stream",
          "name": "stdout",
          "text": [
            "enter your name Krishna  Agarwal\n",
            "enter your age 23\n",
            "My name is: Krishna  Agarwal\n",
            "My age is: 23\n"
          ]
        }
      ]
    },
    {
      "cell_type": "code",
      "source": [
        "# 3. Write code to print all the pre-defined keywords in Python using the keyword library\n",
        "import keyword\n",
        "keywords = keyword.kwlist\n",
        "print(\"Python Keywords:\",keywords)\n"
      ],
      "metadata": {
        "colab": {
          "base_uri": "https://localhost:8080/"
        },
        "id": "xa0pTlAEnWyF",
        "outputId": "f1b73ad5-91b6-47f7-a9dd-4cbbb1a1cdcb"
      },
      "execution_count": null,
      "outputs": [
        {
          "output_type": "stream",
          "name": "stdout",
          "text": [
            "Python Keywords: ['False', 'None', 'True', 'and', 'as', 'assert', 'async', 'await', 'break', 'class', 'continue', 'def', 'del', 'elif', 'else', 'except', 'finally', 'for', 'from', 'global', 'if', 'import', 'in', 'is', 'lambda', 'nonlocal', 'not', 'or', 'pass', 'raise', 'return', 'try', 'while', 'with', 'yield']\n"
          ]
        }
      ]
    },
    {
      "cell_type": "code",
      "source": [
        "# 4. Write a program that checks if a given word is a Python keyword.\n",
        "word = input(\"Enter a word to check if it's a Python keyword: \")\n",
        "if keyword.iskeyword(word):\n",
        "    print(f\"'{word}' is a Python keyword.\")\n",
        "else:\n",
        "    print(f\"'{word}' is not a Python keyword.\")\n"
      ],
      "metadata": {
        "colab": {
          "base_uri": "https://localhost:8080/"
        },
        "id": "b4fXl-qMoAeo",
        "outputId": "cfa947d4-51c5-4771-a0c7-4cd9bd1df67c"
      },
      "execution_count": null,
      "outputs": [
        {
          "output_type": "stream",
          "name": "stdout",
          "text": [
            "Enter a word to check if it's a Python keyword: nonlocal\n",
            "'nonlocal' is a Python keyword.\n"
          ]
        }
      ]
    },
    {
      "cell_type": "code",
      "source": [
        "# 5. Create a list and tuple in Python, and demonstrate how attempting to change an element works differently for each.\n",
        "a=[1,2,3,4,5]\n",
        "b=(1,2,3,4,5)\n",
        "print(a)\n",
        "a[0]=10\n",
        "print(\"new a:\",a)\n",
        "print(b)\n",
        "try:\n",
        "  b[0]=10\n",
        "except TypeError as e:\n",
        "  print(\"Tuple cannot be modified as it is immutable:\",e)\n"
      ],
      "metadata": {
        "colab": {
          "base_uri": "https://localhost:8080/"
        },
        "id": "QObgKGpxqZFh",
        "outputId": "37039112-b0b6-40d5-c4bb-8d0c733bce20"
      },
      "execution_count": null,
      "outputs": [
        {
          "output_type": "stream",
          "name": "stdout",
          "text": [
            "[1, 2, 3, 4, 5]\n",
            "new a: [10, 2, 3, 4, 5]\n",
            "(1, 2, 3, 4, 5)\n",
            "Tuple cannot be modified as it is immutable: 'tuple' object does not support item assignment\n"
          ]
        }
      ]
    },
    {
      "cell_type": "code",
      "source": [
        "# 6. Write a function to demonstrate the behavior of mutable and immutable arguments.\n",
        "t=150\n",
        "l=[1,2,3,4,5]\n",
        "print(\"Before modification:\",t,l)\n",
        "print(f\"Immutable argument (iny): {t}\")\n",
        "print(f\"Mutable argument (list): {l}\")\n",
        "t += 10\n",
        "l.append(100)\n",
        "\n",
        "print(\"\\nAfter modification inside the function:\")\n",
        "print(f\"Immutable argument (int): {t}\")\n",
        "print(f\"Mutable argument (list): {l}\")\n",
        "\n"
      ],
      "metadata": {
        "id": "9Facct8WshBs",
        "colab": {
          "base_uri": "https://localhost:8080/"
        },
        "outputId": "02b1213e-005a-4def-d825-aff5b7224c48"
      },
      "execution_count": null,
      "outputs": [
        {
          "output_type": "stream",
          "name": "stdout",
          "text": [
            "Before modification: 150 [1, 2, 3, 4, 5]\n",
            "Immutable argument (iny): 150\n",
            "Mutable argument (list): [1, 2, 3, 4, 5]\n",
            "\n",
            "After modification inside the function:\n",
            "Immutable argument (int): 160\n",
            "Mutable argument (list): [1, 2, 3, 4, 5, 100]\n"
          ]
        }
      ]
    },
    {
      "cell_type": "code",
      "source": [
        "# 7. Write a program that performs basic arithmetic operations on two user-input numbers.\n",
        "num1 = int(input(\"enter the first number:\"))\n",
        "num2 = int(input(\"enter the second numner:\"))\n",
        "add = num1 + num2\n",
        "sub = num1 - num2\n",
        "mul = num1 * num2\n",
        "div = num1 / num2\n",
        "print(\"addition:\",add)\n",
        "print(\"subtraction:\",sub)\n",
        "print(\"multiplication:\",mul)\n",
        "print(\"division:\",div)"
      ],
      "metadata": {
        "id": "BGYdYfhzRI0H",
        "colab": {
          "base_uri": "https://localhost:8080/"
        },
        "outputId": "d8431c60-de44-44f5-dade-7592a12b3321"
      },
      "execution_count": null,
      "outputs": [
        {
          "output_type": "stream",
          "name": "stdout",
          "text": [
            "enter the first number:65\n",
            "enter the second numner:25\n",
            "addition: 90\n",
            "subtraction: 40\n",
            "multiplication: 1625\n",
            "division: 2.6\n"
          ]
        }
      ]
    },
    {
      "cell_type": "code",
      "source": [
        "# 8. Write a program to demonstrate the use of logical operators.\n",
        "a = 10\n",
        "b = 5\n",
        "print(\"a > 5 and b < 10:\", a > 5 and b < 10)\n",
        "print(\"a < 5 or b < 10:\", a < 5 or b < 10)\n",
        "print(\"not(a == b):\", not(a == b))"
      ],
      "metadata": {
        "id": "qR-l1ZkcsmAz",
        "colab": {
          "base_uri": "https://localhost:8080/"
        },
        "outputId": "d065a5ba-db5e-4bb7-fcb0-89a72fdd04a8"
      },
      "execution_count": 1,
      "outputs": [
        {
          "output_type": "stream",
          "name": "stdout",
          "text": [
            "a > 5 and b < 10: True\n",
            "a < 5 or b < 10: True\n",
            "not(a == b): True\n"
          ]
        }
      ]
    },
    {
      "cell_type": "code",
      "source": [
        "# 9. Write a Python program to convert user input from string to integer, float, and boolean types.\n",
        "user_input = input(\"Enter a value: \")\n",
        "try:\n",
        "    int_value = int(user_input)\n",
        "    print(\"Integer value:\", int_value)\n",
        "except ValueError:\n",
        "    print(\"Cannot convert to integer.\")\n",
        "try:\n",
        "    float_value = float(user_input)\n",
        "    print(\"Float value:\", float_value)\n",
        "except ValueError:\n",
        "    print(\"Cannot convert to float.\")\n",
        "bool_value = bool(user_input) and user_input != \"False\"\n",
        "print(\"Boolean value:\", bool_value)\n"
      ],
      "metadata": {
        "colab": {
          "base_uri": "https://localhost:8080/"
        },
        "id": "wr2jJmolxU-v",
        "outputId": "a00a62e6-c03e-44f2-c4e6-f04d17f76a19"
      },
      "execution_count": 2,
      "outputs": [
        {
          "output_type": "stream",
          "name": "stdout",
          "text": [
            "Enter a value: 10\n",
            "Integer value: 10\n",
            "Float value: 10.0\n",
            "Boolean value: True\n"
          ]
        }
      ]
    },
    {
      "cell_type": "code",
      "source": [
        "# 10. Write code to demonstrate type casting with list elements.\n",
        "float_list = [1.9, 2.5, 3.1, 4.8]\n",
        "int_list = [int(num) for num in float_list]\n",
        "print(\"Original list (floats):\", float_list)\n",
        "print(\"Converted list (integers):\", int_list)\n"
      ],
      "metadata": {
        "id": "MXG-ZtdczBQg",
        "colab": {
          "base_uri": "https://localhost:8080/"
        },
        "outputId": "d8f8b67e-5062-4cfc-e78d-b8ab9c0eddb4"
      },
      "execution_count": 1,
      "outputs": [
        {
          "output_type": "stream",
          "name": "stdout",
          "text": [
            "Original list (floats): [1.9, 2.5, 3.1, 4.8]\n",
            "Converted list (integers): [1, 2, 3, 4]\n"
          ]
        }
      ]
    },
    {
      "cell_type": "code",
      "source": [
        "# 11. Write a program that checks if a number is positive, negative, or zero.\n",
        "ab=5\n",
        "if ab<0:\n",
        "    print(\"negative number\")\n",
        "elif ab==0:\n",
        "    print(\"zero number\")\n",
        "elif ab>0:\n",
        "    print(\"positive number\")"
      ],
      "metadata": {
        "colab": {
          "base_uri": "https://localhost:8080/"
        },
        "id": "4YL14U04zC-8",
        "outputId": "8852e5b1-2796-4ccf-e44d-7acd34facbce"
      },
      "execution_count": null,
      "outputs": [
        {
          "output_type": "stream",
          "name": "stdout",
          "text": [
            "positive number\n"
          ]
        }
      ]
    },
    {
      "cell_type": "code",
      "source": [
        "# 12. Write a for loop to print numbers from 1 to 10.\n",
        "i = 1\n",
        "for i in range(1,11):\n",
        "  print(i)"
      ],
      "metadata": {
        "colab": {
          "base_uri": "https://localhost:8080/"
        },
        "id": "t9qHv_u4zX4d",
        "outputId": "9b722dfb-3887-441a-f030-3091cb9b7fff"
      },
      "execution_count": null,
      "outputs": [
        {
          "output_type": "stream",
          "name": "stdout",
          "text": [
            "1\n",
            "2\n",
            "3\n",
            "4\n",
            "5\n",
            "6\n",
            "7\n",
            "8\n",
            "9\n",
            "10\n"
          ]
        }
      ]
    },
    {
      "cell_type": "code",
      "source": [
        "# 13. Write a Python program to find the sum of all even numbers between 1 and 50.\n",
        "sum = 0\n",
        "for e in range(52):\n",
        "  if e%2==0:\n",
        "    sum += e\n",
        "print(\"the sum of all even numbers between 1 and 50 is:\",sum)"
      ],
      "metadata": {
        "colab": {
          "base_uri": "https://localhost:8080/"
        },
        "id": "uAPtYT9Gzz9q",
        "outputId": "f9d9c981-24bf-4016-cfe7-8dee14aa3d23"
      },
      "execution_count": null,
      "outputs": [
        {
          "output_type": "stream",
          "name": "stdout",
          "text": [
            "the sum of all even numbers between 1 and 50 is: 650\n"
          ]
        }
      ]
    },
    {
      "cell_type": "code",
      "source": [
        "# 14. Write a program to reverse a string using a while loop.\n",
        "string = 'Krishna'\n",
        "reversed_string = ''\n",
        "index = len(string)\n",
        "while index > 0:\n",
        "    reversed_string += string[index - 1]\n",
        "    index -= 1\n",
        "print(\"Reversed string:\", reversed_string)\n"
      ],
      "metadata": {
        "colab": {
          "base_uri": "https://localhost:8080/"
        },
        "id": "igmWQBeJ2BTn",
        "outputId": "28f508f9-644c-44b1-abfd-e7c7be2e1aa9"
      },
      "execution_count": null,
      "outputs": [
        {
          "output_type": "stream",
          "name": "stdout",
          "text": [
            "Reversed string: anhsirK\n"
          ]
        }
      ]
    },
    {
      "cell_type": "code",
      "source": [
        "# 15. Write a Python program to calculate the factorial of a number provided by the user using a while loop.\n",
        "num = int(input(\"Enter the number to find factorial:\"))\n",
        "u=1\n",
        "fact = 1\n",
        "while u<=num:\n",
        "  fact *= u\n",
        "  u += 1\n",
        "print(fact)"
      ],
      "metadata": {
        "colab": {
          "base_uri": "https://localhost:8080/"
        },
        "id": "ZrRM_B8T3EHo",
        "outputId": "b7ffaa1b-6dd4-439b-f17f-90b3dc03da3e"
      },
      "execution_count": null,
      "outputs": [
        {
          "output_type": "stream",
          "name": "stdout",
          "text": [
            "Enter the number to find factorial:5\n",
            "120\n"
          ]
        }
      ]
    }
  ]
}