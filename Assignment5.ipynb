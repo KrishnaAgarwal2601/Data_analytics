{
  "nbformat": 4,
  "nbformat_minor": 0,
  "metadata": {
    "colab": {
      "provenance": []
    },
    "kernelspec": {
      "name": "python3",
      "display_name": "Python 3"
    },
    "language_info": {
      "name": "python"
    }
  },
  "cells": [
    {
      "cell_type": "markdown",
      "source": [
        "### **Files, exceptional handling, logging and memory management**"
      ],
      "metadata": {
        "id": "W3zMqzNi6QjY"
      }
    },
    {
      "cell_type": "markdown",
      "source": [
        "1. What is the difference between interpreted and compiled languages?\n",
        "- Interpreted languages execute code line by line using an interpreter (e.g., Python, JavaScript), while compiled languages are translated into machine code all at once by a compiler before execution (e.g., C, C++).\n",
        "\n",
        "2. What is exception handling in Python?\n",
        "- Exception handling in Python is a way to manage runtime errors using try, except, else, and finally blocks, allowing the program to continue running or respond gracefully instead of crashing.\n",
        "\n",
        "3. What is the purpose of the finally block in exception handling?\n",
        "- The `finally` block in exception handling is used to execute code regardless of whether an exception occurred or not. It's typically used for cleanup actions like closing files or releasing resources.\n",
        "\n",
        "4. What is logging in Python?\n",
        "- Logging in Python is the process of recording messages about a program’s execution, such as errors, warnings, or informational events, using the built-in logging module. It helps track the program’s behavior and diagnose issues.\n",
        "\n",
        "5. What is the significance of the __del__ method in Python?\n",
        "- The __del__ method in Python is a destructor—it’s called when an object is about to be destroyed. It’s typically used to perform cleanup actions, like releasing external resources.\n",
        "\n",
        "6. What is the difference between import and from ... import in Python?\n",
        "- import module imports the entire module and you access its contents with the module name (e.g., module.func()). Whereas, from module import name imports specific functions, classes, or variables directly, so you can use them without the module prefix (e.g., func()).\n",
        "\n",
        "7. How can you handle multiple exceptions in Python?\n",
        "- You can handle multiple exceptions in Python by specifying multiple exception types in a single except block using parentheses, or by writing separate except blocks for each exception.\n",
        "\n",
        "8. What is the purpose of the with statement when handling files in Python?\n",
        "- The with statement ensures that a file is properly opened and automatically closed after its block of code runs, even if exceptions occur, simplifying resource management.\n",
        "\n",
        "9. What is the difference between multithreading and multiprocessing?\n",
        "- Multithreading runs multiple threads within the same process, sharing memory, ideal for I/O-bound tasks;\n",
        "Multiprocessing runs multiple processes with separate memory spaces, better for CPU-bound tasks.\n",
        "\n",
        "10. What are the advantages of using logging in a program?\n",
        "- Advantages of logging:\n",
        "\n",
        "* Helps track program execution and diagnose issues\n",
        "* Records errors and warnings for later analysis\n",
        "* Provides runtime information without interrupting the program\n",
        "* Useful for debugging and auditing\n",
        "* Supports different log levels and output destinations\n",
        "\n",
        "11. What is memory management in Python?\n",
        "- Memory management in Python is the process of allocating, using, and freeing memory automatically, handled by Python’s built-in garbage collector and memory allocator to manage objects efficiently.\n",
        "\n",
        "12. What are the basic steps involved in exception handling in Python?\n",
        "- Basic steps in Python exception handling:\n",
        "\n",
        "1. Use a `try` block to wrap code that may raise exceptions.\n",
        "2. Use one or more `except` blocks to catch and handle specific exceptions.\n",
        "3. Optionally use an `else` block to run code if no exceptions occur.\n",
        "4. Optionally use a `finally` block to run cleanup code regardless of exceptions.\n",
        "\n",
        "\n",
        "13. Why is memory management important in Python?\n",
        "- Memory management is important in Python to efficiently allocate and free memory, prevent memory leaks, and ensure optimal program performance and stability.\n",
        "\n",
        "14. What is the role of try and except in exception handling?\n",
        "- The try block contains code that might raise exceptions, and the except block catches and handles those exceptions to prevent the program from crashing.\n",
        "\n",
        "15. How does Python's garbage collection system work?\n",
        "- Python’s garbage collection automatically frees memory by tracking object references and reclaiming objects no longer in use, using reference counting combined with a cyclic garbage collector to detect and clean up reference cycles.\n",
        "\n",
        "16. What is the purpose of the else block in exception handling?\n",
        "- The else block runs code only if no exceptions were raised in the try block, allowing you to separate normal execution from error handling.\n",
        "\n",
        "17. What are the common logging levels in Python?\n",
        "- Common logging levels in Python are:\n",
        "\n",
        "* `DEBUG` (detailed information)\n",
        "* `INFO` (general events)\n",
        "* `WARNING` (something unexpected but not critical)\n",
        "* `ERROR` (serious problems)\n",
        "* `CRITICAL` (very severe errors causing program termination)\n",
        "\n",
        "18. What is the difference between os.fork() and multiprocessing in Python?\n",
        "- os.fork() creates a new child process by duplicating the current process (Unix-only, low-level), while multiprocessing is a cross-platform, high-level module that creates separate processes with better control and easier communication.\n",
        "\n",
        "19. What is the importance of closing a file in Python?\n",
        "- Closing a file in Python is important to free system resources, ensure all data is written (flushed) to disk, and prevent file corruption or access issues.\n",
        "\n",
        "20. What is the difference between file.read() and file.readline() in Python?\n",
        "- file.read() reads the entire file as a single string, while file.readline() reads one line at a time from the file.\n",
        "\n",
        "21. What is the logging module in Python used for?\n",
        "- The logging module in Python is used to record messages about a program’s execution, such as errors, warnings, and informational events, for debugging and monitoring purposes.\n",
        "\n",
        "22. What is the os module in Python used for in file handling?\n",
        "- The os module in Python is used for file handling tasks like creating, deleting, renaming files and directories, checking file existence, and accessing file paths and system information.\n",
        "\n",
        "23. What are the challenges associated with memory management in Python?\n",
        "- Challenges associated with memory management in Python include:\n",
        "\n",
        "1. **Reference cycles**: Objects referencing each other can create cycles that the reference counter can't clean up.\n",
        "2. **Memory leaks**: Improper handling of resources or global variables can prevent memory from being freed.\n",
        "3. **Overhead from dynamic typing**: Python’s flexible data types use more memory compared to statically typed languages.\n",
        "4. **Garbage collection pauses**: The garbage collector can introduce delays during cleanup, affecting performance in real-time applications.\n",
        "5. **Managing large data structures**: Inefficient use of memory with large lists, dicts, or objects can lead to high memory consumption.\n",
        "\n",
        "\n",
        "24. How do you raise an exception manually in Python?\n",
        "- You raise an exception manually in Python using the `raise` keyword, followed by the exception type.\n",
        "Example:\n",
        "\n",
        "```python\n",
        "raise ValueError(\"Invalid input\")\n",
        "```\n",
        "\n",
        "25. Why is it important to use multithreading in certain applications?\n",
        "- Multithreading is important in certain applications to improve performance by running tasks concurrently, especially for I/O-bound operations like file access, network communication, or user interface responsiveness.\n",
        "\n"
      ],
      "metadata": {
        "id": "z8D-hvgwkCSD"
      }
    },
    {
      "cell_type": "markdown",
      "source": [],
      "metadata": {
        "id": "S-KmDY0L6Z3f"
      }
    },
    {
      "cell_type": "code",
      "execution_count": 14,
      "metadata": {
        "id": "PMB6sl966LPl"
      },
      "outputs": [],
      "source": [
        "# 1.How can you open a file for writing in Python and write a string to it?\n",
        "with open(\"file.txt\", \"w\") as file:\n",
        "    file.write(\"Hello, I am Krishna Agarwal.\")"
      ]
    },
    {
      "cell_type": "code",
      "source": [
        "# 2. Write a Python program to read the contents of a file and print each line.\n",
        "with open(\"file.txt\", \"r\") as file:\n",
        "    for line in file:\n",
        "        print(line.strip())\n"
      ],
      "metadata": {
        "colab": {
          "base_uri": "https://localhost:8080/"
        },
        "id": "ebaDMirrBRLf",
        "outputId": "a53a453f-4cc2-49c0-9c86-789f0a250daf"
      },
      "execution_count": 15,
      "outputs": [
        {
          "output_type": "stream",
          "name": "stdout",
          "text": [
            "Hello, I am Krishna Agarwal.\n"
          ]
        }
      ]
    },
    {
      "cell_type": "code",
      "source": [
        "# 3. How would you handle a case where the file doesn't exist while trying to open it for reading?\n",
        "filename = \"file.txt\"\n",
        "\n",
        "try:\n",
        "    with open(filename, \"r\") as file:\n",
        "        for line in file:\n",
        "            print(line.strip())\n",
        "except FileNotFoundError:\n",
        "    print(f\"Error: The file '{filename}' does not exist.\")"
      ],
      "metadata": {
        "colab": {
          "base_uri": "https://localhost:8080/"
        },
        "id": "mlIX6WQBBtxt",
        "outputId": "b3471082-897c-402d-93d2-9c40f5ede40a"
      },
      "execution_count": 16,
      "outputs": [
        {
          "output_type": "stream",
          "name": "stdout",
          "text": [
            "Hello, I am Krishna Agarwal.\n"
          ]
        }
      ]
    },
    {
      "cell_type": "code",
      "source": [
        "# 4. Write a Python script that reads from one file and writes its content to another file.\n",
        "source_file = \"input.txt\"\n",
        "destination_file = \"output.txt\"\n",
        "\n",
        "try:\n",
        "    with open(source_file, \"r\") as infile:\n",
        "        content = infile.read()\n",
        "\n",
        "    with open(destination_file, \"w\") as outfile:\n",
        "        outfile.write(content)\n",
        "\n",
        "    print(f\"Contents copied from '{source_file}' to '{destination_file}' successfully.\")\n",
        "\n",
        "except FileNotFoundError:\n",
        "    print(f\"Error: The file '{source_file}' does not exist.\")\n",
        "except IOError as e:\n",
        "    print(f\"I/O error occurred: {e}\")"
      ],
      "metadata": {
        "colab": {
          "base_uri": "https://localhost:8080/"
        },
        "id": "6vb3dqKHCE8T",
        "outputId": "b40cbc9e-c06c-489e-fea7-655869687e42"
      },
      "execution_count": 17,
      "outputs": [
        {
          "output_type": "stream",
          "name": "stdout",
          "text": [
            "Error: The file 'input.txt' does not exist.\n"
          ]
        }
      ]
    },
    {
      "cell_type": "code",
      "source": [
        "# 5. How would you catch and handle division by zero error in Python?\n",
        "try:\n",
        "    numerator = 10\n",
        "    denominator = 2\n",
        "    result = numerator / denominator\n",
        "    print(\"Result:\", result)\n",
        "except ZeroDivisionError:\n",
        "    print(\"Error: Division by zero is not allowed.\")\n",
        "\n",
        "finally:\n",
        "    print(\"Execution complete.\")"
      ],
      "metadata": {
        "colab": {
          "base_uri": "https://localhost:8080/"
        },
        "id": "4NXRGNArDoNS",
        "outputId": "c5e2d2d6-431f-41e0-9ef0-a3fb2499563a"
      },
      "execution_count": 18,
      "outputs": [
        {
          "output_type": "stream",
          "name": "stdout",
          "text": [
            "Result: 5.0\n",
            "Execution complete.\n"
          ]
        }
      ]
    },
    {
      "cell_type": "code",
      "source": [
        "# 6. Write a Python program that logs an error message to a log file when a division by zero exception occurs.\n",
        "import logging\n",
        "\n",
        "logging.basicConfig(\n",
        "    filename='error.log',\n",
        "    level=logging.ERROR,\n",
        "    format='%(asctime)s - %(levelname)s - %(message)s'\n",
        ")\n",
        "\n",
        "numerator = 100\n",
        "denominator = 4\n",
        "\n",
        "try:\n",
        "    result = numerator / denominator\n",
        "    print(\"Result:\", result)\n",
        "except ZeroDivisionError as e:\n",
        "    logging.error(\"Attempted division by zero: %s\", e)\n",
        "    print(\"An error occurred. Check 'error.log' for details.\")\n"
      ],
      "metadata": {
        "colab": {
          "base_uri": "https://localhost:8080/"
        },
        "id": "P8fYee2zEC1P",
        "outputId": "7f4b90e8-8c76-4459-8eda-2a5eb709f751"
      },
      "execution_count": 19,
      "outputs": [
        {
          "output_type": "stream",
          "name": "stdout",
          "text": [
            "Result: 25.0\n"
          ]
        }
      ]
    },
    {
      "cell_type": "code",
      "source": [
        "# 7. How do you log information at different levels (INFO, ERROR, WARNING) in Python using the logging module?\n",
        "import logging\n",
        "\n",
        "logging.basicConfig(\n",
        "    filename='app.log',\n",
        "    level=logging.DEBUG,\n",
        "    format='%(asctime)s - %(levelname)s - %(message)s'\n",
        ")\n",
        "\n",
        "logging.debug(\"This is a debug message.\")\n",
        "logging.info(\"This is an info message.\")\n",
        "logging.warning(\"This is a warning message.\")\n",
        "logging.error(\"This is an error message.\")\n",
        "logging.critical(\"This is a critical message.\")\n"
      ],
      "metadata": {
        "colab": {
          "base_uri": "https://localhost:8080/"
        },
        "id": "h0dm8IVREdDi",
        "outputId": "573db105-dd5f-4452-c52b-89a857a3d5a8"
      },
      "execution_count": 20,
      "outputs": [
        {
          "output_type": "stream",
          "name": "stderr",
          "text": [
            "WARNING:root:This is a warning message.\n",
            "ERROR:root:This is an error message.\n",
            "CRITICAL:root:This is a critical message.\n"
          ]
        }
      ]
    },
    {
      "cell_type": "code",
      "source": [
        "# 8. Write a program to handle a file opening error using exception handling.\n",
        "filename = \"nonexistent_file.txt\"\n",
        "\n",
        "try:\n",
        "    with open(filename, \"r\") as file:\n",
        "        content = file.read()\n",
        "        print(\"File content:\\n\", content)\n",
        "except FileNotFoundError:\n",
        "    print(f\"Error: The file '{filename}' was not found.\")\n",
        "except IOError as e:\n",
        "    print(f\"An I/O error occurred: {e}\")"
      ],
      "metadata": {
        "colab": {
          "base_uri": "https://localhost:8080/"
        },
        "id": "Hr_7BNGmHHpz",
        "outputId": "39654d27-780e-401c-f246-acb12f2e3021"
      },
      "execution_count": 21,
      "outputs": [
        {
          "output_type": "stream",
          "name": "stdout",
          "text": [
            "Error: The file 'nonexistent_file.txt' was not found.\n"
          ]
        }
      ]
    },
    {
      "cell_type": "code",
      "source": [
        "# 9. How can you read a file line by line and store its content in a list in Python?\n",
        "filename = \"file.txt\"\n",
        "\n",
        "try:\n",
        "    with open(filename, \"r\") as file:\n",
        "        lines = file.readlines()  # Returns a list of lines\n",
        "        print(lines)\n",
        "except FileNotFoundError:\n",
        "    print(f\"Error: The file '{filename}' was not found.\")\n"
      ],
      "metadata": {
        "colab": {
          "base_uri": "https://localhost:8080/"
        },
        "id": "hDAd6lIZHcTd",
        "outputId": "98abeebd-4c6a-4328-a38b-426ea4de7559"
      },
      "execution_count": 22,
      "outputs": [
        {
          "output_type": "stream",
          "name": "stdout",
          "text": [
            "['Hello, I am Krishna Agarwal.']\n"
          ]
        }
      ]
    },
    {
      "cell_type": "code",
      "source": [
        "# 10. How can you append data to an existing file in Python?\n",
        "# Data to append\n",
        "data = \"This is a new line of text.\\n\"\n",
        "\n",
        "# Open the file in append mode\n",
        "with open(\"file.txt\", \"a\") as file:\n",
        "    file.write(data)\n",
        "\n",
        "print(\"Data appended successfully.\")\n"
      ],
      "metadata": {
        "colab": {
          "base_uri": "https://localhost:8080/"
        },
        "id": "K0CkibXmH1Vo",
        "outputId": "5e978015-78bc-458b-f920-4a68510bf5e7"
      },
      "execution_count": 23,
      "outputs": [
        {
          "output_type": "stream",
          "name": "stdout",
          "text": [
            "Data appended successfully.\n"
          ]
        }
      ]
    },
    {
      "cell_type": "code",
      "source": [
        "# 11. Write a Python program that uses a try-except block to handle an error when attempting to access a dictionary key that doesn't exist.\n",
        "my_dict = {\"name\": \"Krishna\", \"age\": 23}\n",
        "\n",
        "try:\n",
        "    value = my_dict[\"name\"]\n",
        "    print(\"name:\", value)\n",
        "except KeyError:\n",
        "    print(\"Error: The key 'address' does not exist in the dictionary.\")\n"
      ],
      "metadata": {
        "colab": {
          "base_uri": "https://localhost:8080/"
        },
        "id": "MaRp_4AzLfdN",
        "outputId": "766c68b9-6a02-4d73-dbb8-517a2ec51de0"
      },
      "execution_count": 24,
      "outputs": [
        {
          "output_type": "stream",
          "name": "stdout",
          "text": [
            "name: Krishna\n"
          ]
        }
      ]
    },
    {
      "cell_type": "code",
      "source": [
        "# 12.  Write a program that demonstrates using multiple except blocks to handle different types of exceptions.\n",
        "try:\n",
        "    numerator = int(input(\"Enter numerator: \"))\n",
        "    denominator = int(input(\"Enter denominator: \"))\n",
        "\n",
        "    result = numerator / denominator\n",
        "    print(\"Result:\", result)\n",
        "\n",
        "except ValueError:\n",
        "    print(\"Error: Please enter valid integers.\")\n",
        "\n",
        "except ZeroDivisionError:\n",
        "    print(\"Error: Division by zero is not allowed.\")\n",
        "\n",
        "except Exception as e:\n",
        "    print(f\"An unexpected error occurred: {e}\")\n"
      ],
      "metadata": {
        "colab": {
          "base_uri": "https://localhost:8080/"
        },
        "id": "KlPnxb1SMCSx",
        "outputId": "614de30c-849b-4da9-e769-0df12135ddba"
      },
      "execution_count": 25,
      "outputs": [
        {
          "output_type": "stream",
          "name": "stdout",
          "text": [
            "Enter numerator: 50\n",
            "Enter denominator: 2\n",
            "Result: 25.0\n"
          ]
        }
      ]
    },
    {
      "cell_type": "code",
      "source": [
        "# 13. How would you check if a file exists before attempting to read it in Python?\n",
        "import os\n",
        "\n",
        "filename = \"file.txt\"\n",
        "\n",
        "if os.path.exists(filename):\n",
        "    with open(filename, \"r\") as file:\n",
        "        content = file.read()\n",
        "        print(content)\n",
        "else:\n",
        "    print(f\"The file '{filename}' does not exist.\")\n"
      ],
      "metadata": {
        "colab": {
          "base_uri": "https://localhost:8080/"
        },
        "id": "7NMXwV7mMUIL",
        "outputId": "a0f9d8f4-8ce7-4fd2-deb7-dc7334fea31b"
      },
      "execution_count": 26,
      "outputs": [
        {
          "output_type": "stream",
          "name": "stdout",
          "text": [
            "Hello, I am Krishna Agarwal.This is a new line of text.\n",
            "\n"
          ]
        }
      ]
    },
    {
      "cell_type": "code",
      "source": [
        "# 14. Write a program that uses the logging module to log both informational and error messages.\n",
        "import logging\n",
        "\n",
        "logging.basicConfig(\n",
        "    filename='app.log',\n",
        "    level=logging.DEBUG,\n",
        "    format='%(asctime)s - %(levelname)s - %(message)s'\n",
        ")\n",
        "\n",
        "def divide(a, b):\n",
        "    logging.info(f\"Attempting to divide {a} by {b}\")\n",
        "    try:\n",
        "        result = a / b\n",
        "        logging.info(f\"Division successful: {result}\")\n",
        "        return result\n",
        "    except ZeroDivisionError:\n",
        "        logging.error(\"Error: Division by zero attempted.\")\n",
        "        return None\n",
        "\n",
        "divide(10, 2)\n",
        "divide(10, 5)\n"
      ],
      "metadata": {
        "colab": {
          "base_uri": "https://localhost:8080/"
        },
        "id": "ShugEwvPMqL2",
        "outputId": "0fc72174-1e59-40b2-adfa-ec76e0e50cec"
      },
      "execution_count": 27,
      "outputs": [
        {
          "output_type": "execute_result",
          "data": {
            "text/plain": [
              "2.0"
            ]
          },
          "metadata": {},
          "execution_count": 27
        }
      ]
    },
    {
      "cell_type": "code",
      "source": [
        "# 15. Write a Python program that prints the content of a file and handles the case when the file is empty.\n",
        "filename = \"file.txt\"\n",
        "\n",
        "try:\n",
        "    with open(filename, \"r\") as file:\n",
        "        content = file.read()\n",
        "        if content:\n",
        "            print(\"File content:\\n\", content)\n",
        "        else:\n",
        "            print(f\"The file '{filename}' is empty.\")\n",
        "except FileNotFoundError:\n",
        "    print(f\"Error: The file '{filename}' does not exist.\")\n"
      ],
      "metadata": {
        "colab": {
          "base_uri": "https://localhost:8080/"
        },
        "id": "eFk0KMFONHtj",
        "outputId": "1bf67479-5be4-4234-b662-bc67f03c8b97"
      },
      "execution_count": 28,
      "outputs": [
        {
          "output_type": "stream",
          "name": "stdout",
          "text": [
            "File content:\n",
            " Hello, I am Krishna Agarwal.This is a new line of text.\n",
            "\n"
          ]
        }
      ]
    },
    {
      "cell_type": "code",
      "source": [
        "# 16. Demonstrate how to use memory profiling to check the memory usage of a small program.\n",
        "!pip install -q memory-profiler\n",
        "\n",
        "from memory_profiler import profile\n",
        "\n",
        "@profile\n",
        "def create_large_list():\n",
        "    large_list = [i for i in range(10)]\n",
        "    return sum(large_list)\n",
        "\n",
        "if __name__ == \"__main__\":\n",
        "    result = create_large_list()\n",
        "    print(\"Sum:\", result)\n",
        "\n"
      ],
      "metadata": {
        "colab": {
          "base_uri": "https://localhost:8080/"
        },
        "id": "eVacK8H7cIOU",
        "outputId": "2120c273-12e1-4427-ec9e-27bf246fac33"
      },
      "execution_count": 34,
      "outputs": [
        {
          "output_type": "stream",
          "name": "stdout",
          "text": [
            "ERROR: Could not find file <ipython-input-34-2efb5e8c994f>\n",
            "NOTE: %mprun can only be used on functions defined in physical files, and not in the IPython environment.\n",
            "Sum: 45\n"
          ]
        }
      ]
    },
    {
      "cell_type": "code",
      "source": [
        "# 17. Write a Python program to create and write a list of numbers to a file, one number per line.\n",
        "numbers = [1, 2, 3, 4, 5]\n",
        "\n",
        "filename = \"numbers.txt\"\n",
        "\n",
        "try:\n",
        "    with open(filename, \"w\") as file:\n",
        "        for number in numbers:\n",
        "            file.write(f\"{number}\\n\")\n",
        "\n",
        "    print(f\"Numbers written to '{filename}' successfully.\")\n",
        "except IOError as e:\n",
        "    print(f\"An error occurred while writing to the file: {e}\")"
      ],
      "metadata": {
        "colab": {
          "base_uri": "https://localhost:8080/"
        },
        "id": "WFycYMJdeRjW",
        "outputId": "612db6b1-1b9a-48d1-b4ff-0191cd6d1230"
      },
      "execution_count": 30,
      "outputs": [
        {
          "output_type": "stream",
          "name": "stdout",
          "text": [
            "Numbers written to 'numbers.txt' successfully.\n"
          ]
        }
      ]
    },
    {
      "cell_type": "code",
      "source": [
        "# 18. How would you implement a basic logging setup that logs to a file with rotation after 1MB?\n",
        "import logging\n",
        "from logging.handlers import RotatingFileHandler\n",
        "\n",
        "log_file = 'app.log'\n",
        "handler = RotatingFileHandler(\n",
        "    log_file, maxBytes=1_000_000, backupCount=3\n",
        ")\n",
        "\n",
        "formatter = logging.Formatter('%(asctime)s - %(levelname)s - %(message)s')\n",
        "handler.setFormatter(formatter)\n",
        "\n",
        "logger = logging.getLogger(__name__)\n",
        "logger.setLevel(logging.INFO)\n",
        "logger.addHandler(handler)\n",
        "\n",
        "for i in range(10):\n",
        "    logger.info(f\"Logging message #{i}\")"
      ],
      "metadata": {
        "colab": {
          "base_uri": "https://localhost:8080/"
        },
        "id": "q6y0Y3YGgwxk",
        "outputId": "3338e5ee-58cc-4550-c12f-6c28d87e1211"
      },
      "execution_count": 31,
      "outputs": [
        {
          "output_type": "stream",
          "name": "stderr",
          "text": [
            "INFO:__main__:Logging message #0\n",
            "INFO:__main__:Logging message #1\n",
            "INFO:__main__:Logging message #2\n",
            "INFO:__main__:Logging message #3\n",
            "INFO:__main__:Logging message #4\n",
            "INFO:__main__:Logging message #5\n",
            "INFO:__main__:Logging message #6\n",
            "INFO:__main__:Logging message #7\n",
            "INFO:__main__:Logging message #8\n",
            "INFO:__main__:Logging message #9\n"
          ]
        }
      ]
    },
    {
      "cell_type": "code",
      "source": [
        "# 19. Write a program that handles both IndexError and KeyError using a try-except block.\n",
        "def access_data():\n",
        "    my_list = [10, 20, 30]\n",
        "    my_dict = {\"name\": \"Krishna\", \"age\": 23}\n",
        "\n",
        "    try:\n",
        "        print(\"List element:\", my_list[5])\n",
        "\n",
        "        print(\"City:\", my_dict[\"city\"])\n",
        "\n",
        "    except IndexError:\n",
        "        print(\"Error: Tried to access a list index that does not exist.\")\n",
        "\n",
        "    except KeyError:\n",
        "        print(\"Error: Tried to access a dictionary key that does not exist.\")\n",
        "\n",
        "access_data()\n"
      ],
      "metadata": {
        "colab": {
          "base_uri": "https://localhost:8080/"
        },
        "id": "4oGuHjIWheJy",
        "outputId": "a690267e-6e07-41f5-f021-ec33e48261e6"
      },
      "execution_count": 32,
      "outputs": [
        {
          "output_type": "stream",
          "name": "stdout",
          "text": [
            "Error: Tried to access a list index that does not exist.\n"
          ]
        }
      ]
    },
    {
      "cell_type": "code",
      "source": [
        "# 20. How would you open a file and read its contents using a context manager in Python?\n",
        "filename = \"file.txt\"\n",
        "\n",
        "try:\n",
        "    with open(filename, \"r\") as file:\n",
        "        content = file.read()\n",
        "        print(\"File content:\\n\", content)\n",
        "except FileNotFoundError:\n",
        "    print(f\"Error: The file '{filename}' was not found.\")\n"
      ],
      "metadata": {
        "colab": {
          "base_uri": "https://localhost:8080/"
        },
        "id": "lyYk59pSh49N",
        "outputId": "ded6d081-b050-4211-840b-5a84c8ceff98"
      },
      "execution_count": 33,
      "outputs": [
        {
          "output_type": "stream",
          "name": "stdout",
          "text": [
            "File content:\n",
            " Hello, I am Krishna Agarwal.This is a new line of text.\n",
            "\n"
          ]
        }
      ]
    },
    {
      "cell_type": "code",
      "source": [
        "# 21. Write a Python program that reads a file and prints the number of occurrences of a specific word.\n",
        "def count_word_occurrences(filename, target_word):\n",
        "    try:\n",
        "        with open(filename, \"r\") as file:\n",
        "            content = file.read()\n",
        "            words = content.lower().split()\n",
        "            count = words.count(target_word.lower())\n",
        "            print(f\"The word '{target_word}' occurred {count} time(s) in '{filename}'.\")\n",
        "    except FileNotFoundError:\n",
        "        print(f\"Error: The file '{filename}' was not found.\")\n",
        "\n",
        "filename = \"file.txt\"\n",
        "word_to_search = \"python\"\n",
        "count_word_occurrences(filename, word_to_search)\n"
      ],
      "metadata": {
        "colab": {
          "base_uri": "https://localhost:8080/"
        },
        "id": "lsGZbqplidzo",
        "outputId": "db8e2df0-7fac-48c5-f59f-1ac3e0170a7d"
      },
      "execution_count": 35,
      "outputs": [
        {
          "output_type": "stream",
          "name": "stdout",
          "text": [
            "The word 'python' occurred 0 time(s) in 'file.txt'.\n"
          ]
        }
      ]
    },
    {
      "cell_type": "code",
      "source": [
        "# 22. How can you check if a file is empty before attempting to read its contents?\n",
        "import os\n",
        "\n",
        "filename = \"file.txt\"\n",
        "\n",
        "if os.path.exists(filename):\n",
        "    if os.path.getsize(filename) == 0:\n",
        "        print(f\"The file '{filename}' is empty.\")\n",
        "    else:\n",
        "        with open(filename, \"r\") as file:\n",
        "            content = file.read()\n",
        "            print(\"File content:\\n\", content)\n",
        "else:\n",
        "    print(f\"Error: The file '{filename}' does not exist.\")"
      ],
      "metadata": {
        "colab": {
          "base_uri": "https://localhost:8080/"
        },
        "id": "xGMVKo3-i1nK",
        "outputId": "13763e90-5817-4476-b8fb-e4a49a401f80"
      },
      "execution_count": 36,
      "outputs": [
        {
          "output_type": "stream",
          "name": "stdout",
          "text": [
            "File content:\n",
            " Hello, I am Krishna Agarwal.This is a new line of text.\n",
            "\n"
          ]
        }
      ]
    },
    {
      "cell_type": "code",
      "source": [
        "# 23. Write a Python program that writes to a log file when an error occurs during file handling.\n",
        "import logging\n",
        "\n",
        "logging.basicConfig(\n",
        "    filename='file_errors.log',         # Log file name\n",
        "    level=logging.ERROR,                # Log only errors and above\n",
        "    format='%(asctime)s - %(levelname)s - %(message)s'\n",
        ")\n",
        "\n",
        "def read_file(filename):\n",
        "    try:\n",
        "        with open(filename, 'r') as file:\n",
        "            content = file.read()\n",
        "            print(\"File content:\\n\", content)\n",
        "    except Exception as e:\n",
        "        logging.error(f\"Failed to read '{filename}': {e}\")\n",
        "        print(f\"An error occurred. Check 'file_errors.log' for details.\")\n",
        "\n",
        "read_file(\"file.txt\")\n"
      ],
      "metadata": {
        "colab": {
          "base_uri": "https://localhost:8080/"
        },
        "id": "kPaV1g5QjEju",
        "outputId": "1a6d1b97-c899-4982-a8c0-0e2560582b6c"
      },
      "execution_count": 37,
      "outputs": [
        {
          "output_type": "stream",
          "name": "stdout",
          "text": [
            "File content:\n",
            " Hello, I am Krishna Agarwal.This is a new line of text.\n",
            "\n"
          ]
        }
      ]
    }
  ]
}